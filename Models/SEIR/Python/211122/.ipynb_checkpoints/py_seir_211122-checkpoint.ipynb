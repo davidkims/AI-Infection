{
 "cells": [
  {
   "cell_type": "code",
   "execution_count": 5,
   "id": "407fd864",
   "metadata": {},
   "outputs": [],
   "source": [
    "import pandas as pd\n",
    "import numpy as np\n",
    "import matplotlib.pyplot as plt\n",
    "from datetime import timedelta\n",
    "import subprocess\n",
    "\n",
    "import os"
   ]
  },
  {
   "cell_type": "markdown",
   "id": "657aacd2",
   "metadata": {},
   "source": [
    "# 경로 설정"
   ]
  },
  {
   "cell_type": "code",
   "execution_count": 6,
   "id": "c29a8920",
   "metadata": {},
   "outputs": [],
   "source": [
    "save_date = \"211119\""
   ]
  },
  {
   "cell_type": "code",
   "execution_count": 7,
   "id": "aa5d623b",
   "metadata": {},
   "outputs": [],
   "source": [
    "## Input\n",
    "path_r = \"../../../../01_data/SEIR/owid-covid-data.csv\"\n",
    "path_vac = \"../../../../01_data/SEIR/vaxx_0926_child_70.csv\"\n",
    "path_var = \"../../../../01_data/SEIR/variants_1005_1.xlsx\"\n",
    "\n",
    "## Ground - Truth\n",
    "path_2 = '../../../../01_data/국제/수집데이터_211022.xlsx'\n",
    "path_3 = '../../../../01_data/국내/covid19_Nov2.csv'\n",
    "\n",
    "## Forecast\n",
    "path_sd = '../../../../03_result/SEIR/211105/seir_211105_sd.csv'  # S, D\n",
    "path_i = '../../../../03_result/SEIR/211102/seir_211102_i.csv'   # TP incidence\n",
    "\n",
    "## image\n",
    "save_path = \"../../../../04_image/\"+save_date+\"/\"+save_date+\"/MA/SEIR\"  # 이미지 저장 폴더"
   ]
  },
  {
   "cell_type": "code",
   "execution_count": 8,
   "id": "2181c9ec",
   "metadata": {},
   "outputs": [
    {
     "data": {
      "text/html": [
       "<div>\n",
       "<style scoped>\n",
       "    .dataframe tbody tr th:only-of-type {\n",
       "        vertical-align: middle;\n",
       "    }\n",
       "\n",
       "    .dataframe tbody tr th {\n",
       "        vertical-align: top;\n",
       "    }\n",
       "\n",
       "    .dataframe thead th {\n",
       "        text-align: right;\n",
       "    }\n",
       "</style>\n",
       "<table border=\"1\" class=\"dataframe\">\n",
       "  <thead>\n",
       "    <tr style=\"text-align: right;\">\n",
       "      <th></th>\n",
       "      <th>input_1</th>\n",
       "      <th>input_2</th>\n",
       "      <th>input_3</th>\n",
       "      <th>output_1</th>\n",
       "      <th>output_2</th>\n",
       "    </tr>\n",
       "  </thead>\n",
       "  <tbody>\n",
       "    <tr>\n",
       "      <th>0</th>\n",
       "      <td>../../../../01_data/SEIR/owid-covid-data.csv</td>\n",
       "      <td>../../../../01_data/SEIR/vaxx_0926_child_70.csv</td>\n",
       "      <td>../../../../01_data/SEIR/variants_1005_1.xlsx</td>\n",
       "      <td>../../../../03_result/SEIR/211105/seir_211105_...</td>\n",
       "      <td>../../../../03_result/SEIR/211102/seir_211102_...</td>\n",
       "    </tr>\n",
       "  </tbody>\n",
       "</table>\n",
       "</div>"
      ],
      "text/plain": [
       "                                        input_1  \\\n",
       "0  ../../../../01_data/SEIR/owid-covid-data.csv   \n",
       "\n",
       "                                           input_2  \\\n",
       "0  ../../../../01_data/SEIR/vaxx_0926_child_70.csv   \n",
       "\n",
       "                                         input_3  \\\n",
       "0  ../../../../01_data/SEIR/variants_1005_1.xlsx   \n",
       "\n",
       "                                            output_1  \\\n",
       "0  ../../../../03_result/SEIR/211105/seir_211105_...   \n",
       "\n",
       "                                            output_2  \n",
       "0  ../../../../03_result/SEIR/211102/seir_211102_...  "
      ]
     },
     "execution_count": 8,
     "metadata": {},
     "output_type": "execute_result"
    }
   ],
   "source": [
    "path = pd.DataFrame({'input_1':[path_r],'input_2':[path_vac],'input_3':[path_var], 'output_1':[path_sd], 'output_2':[path_i]})\n",
    "path.to_csv(\"../../../../00_path/SEIR/seir_path.csv\")\n",
    "path"
   ]
  },
  {
   "cell_type": "markdown",
   "id": "f624d700",
   "metadata": {},
   "source": [
    "# R코드 실행"
   ]
  },
  {
   "cell_type": "code",
   "execution_count": 9,
   "id": "c3c942ec",
   "metadata": {},
   "outputs": [],
   "source": [
    "#####SEIR\n",
    "command = '/home/sysadm/anaconda3/envs/gil/bin/Rscript'\n",
    "arg = '--vanilla'\n",
    "path2script = '../../../../02_code/SEIR/R/211019/r_seir_211019.R'\n",
    "\n",
    "retcode = subprocess.call([command, arg, path2script])"
   ]
  },
  {
   "cell_type": "markdown",
   "id": "e9da71c2",
   "metadata": {},
   "source": [
    "# SEIR 그래프 그리기\n",
    "## 1. 날짜 및 변수값 선언\n",
    "#### 날짜\n",
    "- file_name_date : 파일 이름에 들어갈 예측 마지막 날짜\n",
    "- start_date : 이유엔 데이터의 시작날짜\n",
    "- seir_start_date : seir r 코드에 들어가는 input 시작날짜\n",
    "- pre_date : 예측 시작 날짜\n",
    "- end_date : 예측 마지막 날짜\n",
    "\n",
    "#### 기간\n",
    "- train_date : ground-truth의 기간\n",
    "- predict_date : prediction의 기간\n",
    "- date : seir r 코드의 output data 총 기간(2021-11-05 기준, 2021-07-01~2023-12-31 914일)\n",
    "- all_seir_date : date일 수 = 914일"
   ]
  },
  {
   "cell_type": "code",
   "execution_count": 10,
   "id": "749fc492",
   "metadata": {},
   "outputs": [
    {
     "data": {
      "text/plain": [
       "914"
      ]
     },
     "execution_count": 10,
     "metadata": {},
     "output_type": "execute_result"
    }
   ],
   "source": [
    "# Date range\n",
    "file_name_date = '20231231'\n",
    "start_date = pd.Timestamp('2020-01-22')\n",
    "seir_start_date = pd.Timestamp('2021-07-01')\n",
    "pre_date = pd.Timestamp('2021-10-07') # 예측 시작날짜\n",
    "end_date = pd.Timestamp('2023-12-31')\n",
    "# train_date = pd.date_range(start_date,pre_date-timedelta(days=1))\n",
    "train_date = pd.date_range(start_date,pre_date)\n",
    "\n",
    "predict_date = pd.date_range(pre_date,end_date) # 예측 날짜 범위\n",
    "date = pd.date_range(seir_start_date,end_date)\n",
    "\n",
    "all_seir_date = int(str(end_date-seir_start_date)[:3])+1\n",
    "all_seir_date"
   ]
  },
  {
   "cell_type": "code",
   "execution_count": 11,
   "id": "69afe088",
   "metadata": {},
   "outputs": [],
   "source": [
    "# Option\n",
    "rt = [3.5, 4, 4.5]\n",
    "npi = [0.85, 1]\n",
    "# npi2 = [0.85, 1]\n",
    "vac = [0.8, 1, 1.2]\n",
    "test = [0.95, 1, 1.2]"
   ]
  },
  {
   "cell_type": "markdown",
   "id": "03a23e40",
   "metadata": {},
   "source": [
    "## 2. output 불러오기\n",
    "- path_sd : SD(중증자, 사망자) result 파일\n",
    "- path_i : TP-incidence(확진자) result 파일\n",
    "- path_2 : ground-truth를 위한 이유엔 데이터\n",
    "- path_3 : 중증자 데이터 보충을 위한 파일"
   ]
  },
  {
   "cell_type": "code",
   "execution_count": 12,
   "id": "28eab9bb",
   "metadata": {},
   "outputs": [
    {
     "ename": "KeyboardInterrupt",
     "evalue": "",
     "output_type": "error",
     "traceback": [
      "\u001b[0;31m---------------------------------------------------------------------------\u001b[0m",
      "\u001b[0;31mKeyboardInterrupt\u001b[0m                         Traceback (most recent call last)",
      "\u001b[0;32m<ipython-input-12-f5858ea265bb>\u001b[0m in \u001b[0;36m<module>\u001b[0;34m\u001b[0m\n\u001b[0;32m----> 1\u001b[0;31m \u001b[0mdata_case\u001b[0m\u001b[0;34m=\u001b[0m \u001b[0mpd\u001b[0m\u001b[0;34m.\u001b[0m\u001b[0mread_excel\u001b[0m\u001b[0;34m(\u001b[0m\u001b[0mpath_2\u001b[0m\u001b[0;34m,\u001b[0m\u001b[0mengine\u001b[0m \u001b[0;34m=\u001b[0m \u001b[0;34m\"openpyxl\"\u001b[0m\u001b[0;34m,\u001b[0m\u001b[0msheet_name\u001b[0m \u001b[0;34m=\u001b[0m\u001b[0;34m'확진자,사망자수(US 제외)'\u001b[0m \u001b[0;34m)\u001b[0m\u001b[0;34m\u001b[0m\u001b[0;34m\u001b[0m\u001b[0m\n\u001b[0m\u001b[1;32m      2\u001b[0m \u001b[0mdata_case\u001b[0m\u001b[0;34m=\u001b[0m\u001b[0mdata_case\u001b[0m\u001b[0;34m[\u001b[0m\u001b[0mdata_case\u001b[0m\u001b[0;34m[\u001b[0m\u001b[0;34m'Country'\u001b[0m\u001b[0;34m]\u001b[0m \u001b[0;34m==\u001b[0m\u001b[0;34m'South Korea'\u001b[0m\u001b[0;34m]\u001b[0m\u001b[0;34m\u001b[0m\u001b[0;34m\u001b[0m\u001b[0m\n\u001b[1;32m      3\u001b[0m \u001b[0mdata_case\u001b[0m\u001b[0;34m.\u001b[0m\u001b[0mdrop\u001b[0m\u001b[0;34m(\u001b[0m\u001b[0;34m[\u001b[0m\u001b[0;34m'Province1'\u001b[0m\u001b[0;34m,\u001b[0m\u001b[0;34m'Province2'\u001b[0m\u001b[0;34m]\u001b[0m\u001b[0;34m,\u001b[0m \u001b[0maxis\u001b[0m\u001b[0;34m=\u001b[0m\u001b[0;36m1\u001b[0m\u001b[0;34m,\u001b[0m \u001b[0minplace\u001b[0m\u001b[0;34m=\u001b[0m\u001b[0;32mTrue\u001b[0m\u001b[0;34m)\u001b[0m\u001b[0;34m\u001b[0m\u001b[0;34m\u001b[0m\u001b[0m\n\u001b[1;32m      4\u001b[0m \u001b[0mdata_case\u001b[0m\u001b[0;34m\u001b[0m\u001b[0;34m\u001b[0m\u001b[0m\n",
      "\u001b[0;32m~/anaconda3/envs/heytrt3.7/lib/python3.6/site-packages/pandas/util/_decorators.py\u001b[0m in \u001b[0;36mwrapper\u001b[0;34m(*args, **kwargs)\u001b[0m\n\u001b[1;32m    294\u001b[0m                 )\n\u001b[1;32m    295\u001b[0m                 \u001b[0mwarnings\u001b[0m\u001b[0;34m.\u001b[0m\u001b[0mwarn\u001b[0m\u001b[0;34m(\u001b[0m\u001b[0mmsg\u001b[0m\u001b[0;34m,\u001b[0m \u001b[0mFutureWarning\u001b[0m\u001b[0;34m,\u001b[0m \u001b[0mstacklevel\u001b[0m\u001b[0;34m=\u001b[0m\u001b[0mstacklevel\u001b[0m\u001b[0;34m)\u001b[0m\u001b[0;34m\u001b[0m\u001b[0;34m\u001b[0m\u001b[0m\n\u001b[0;32m--> 296\u001b[0;31m             \u001b[0;32mreturn\u001b[0m \u001b[0mfunc\u001b[0m\u001b[0;34m(\u001b[0m\u001b[0;34m*\u001b[0m\u001b[0margs\u001b[0m\u001b[0;34m,\u001b[0m \u001b[0;34m**\u001b[0m\u001b[0mkwargs\u001b[0m\u001b[0;34m)\u001b[0m\u001b[0;34m\u001b[0m\u001b[0;34m\u001b[0m\u001b[0m\n\u001b[0m\u001b[1;32m    297\u001b[0m \u001b[0;34m\u001b[0m\u001b[0m\n\u001b[1;32m    298\u001b[0m         \u001b[0;32mreturn\u001b[0m \u001b[0mwrapper\u001b[0m\u001b[0;34m\u001b[0m\u001b[0;34m\u001b[0m\u001b[0m\n",
      "\u001b[0;32m~/anaconda3/envs/heytrt3.7/lib/python3.6/site-packages/pandas/io/excel/_base.py\u001b[0m in \u001b[0;36mread_excel\u001b[0;34m(io, sheet_name, header, names, index_col, usecols, squeeze, dtype, engine, converters, true_values, false_values, skiprows, nrows, na_values, keep_default_na, na_filter, verbose, parse_dates, date_parser, thousands, comment, skipfooter, convert_float, mangle_dupe_cols)\u001b[0m\n\u001b[1;32m    332\u001b[0m         \u001b[0mskipfooter\u001b[0m\u001b[0;34m=\u001b[0m\u001b[0mskipfooter\u001b[0m\u001b[0;34m,\u001b[0m\u001b[0;34m\u001b[0m\u001b[0;34m\u001b[0m\u001b[0m\n\u001b[1;32m    333\u001b[0m         \u001b[0mconvert_float\u001b[0m\u001b[0;34m=\u001b[0m\u001b[0mconvert_float\u001b[0m\u001b[0;34m,\u001b[0m\u001b[0;34m\u001b[0m\u001b[0;34m\u001b[0m\u001b[0m\n\u001b[0;32m--> 334\u001b[0;31m         \u001b[0mmangle_dupe_cols\u001b[0m\u001b[0;34m=\u001b[0m\u001b[0mmangle_dupe_cols\u001b[0m\u001b[0;34m,\u001b[0m\u001b[0;34m\u001b[0m\u001b[0;34m\u001b[0m\u001b[0m\n\u001b[0m\u001b[1;32m    335\u001b[0m     )\n\u001b[1;32m    336\u001b[0m \u001b[0;34m\u001b[0m\u001b[0m\n",
      "\u001b[0;32m~/anaconda3/envs/heytrt3.7/lib/python3.6/site-packages/pandas/io/excel/_base.py\u001b[0m in \u001b[0;36mparse\u001b[0;34m(self, sheet_name, header, names, index_col, usecols, squeeze, converters, true_values, false_values, skiprows, nrows, na_values, parse_dates, date_parser, thousands, comment, skipfooter, convert_float, mangle_dupe_cols, **kwds)\u001b[0m\n\u001b[1;32m    924\u001b[0m             \u001b[0mconvert_float\u001b[0m\u001b[0;34m=\u001b[0m\u001b[0mconvert_float\u001b[0m\u001b[0;34m,\u001b[0m\u001b[0;34m\u001b[0m\u001b[0;34m\u001b[0m\u001b[0m\n\u001b[1;32m    925\u001b[0m             \u001b[0mmangle_dupe_cols\u001b[0m\u001b[0;34m=\u001b[0m\u001b[0mmangle_dupe_cols\u001b[0m\u001b[0;34m,\u001b[0m\u001b[0;34m\u001b[0m\u001b[0;34m\u001b[0m\u001b[0m\n\u001b[0;32m--> 926\u001b[0;31m             \u001b[0;34m**\u001b[0m\u001b[0mkwds\u001b[0m\u001b[0;34m,\u001b[0m\u001b[0;34m\u001b[0m\u001b[0;34m\u001b[0m\u001b[0m\n\u001b[0m\u001b[1;32m    927\u001b[0m         )\n\u001b[1;32m    928\u001b[0m \u001b[0;34m\u001b[0m\u001b[0m\n",
      "\u001b[0;32m~/anaconda3/envs/heytrt3.7/lib/python3.6/site-packages/pandas/io/excel/_base.py\u001b[0m in \u001b[0;36mparse\u001b[0;34m(self, sheet_name, header, names, index_col, usecols, squeeze, dtype, true_values, false_values, skiprows, nrows, na_values, verbose, parse_dates, date_parser, thousands, comment, skipfooter, convert_float, mangle_dupe_cols, **kwds)\u001b[0m\n\u001b[1;32m    441\u001b[0m                 \u001b[0msheet\u001b[0m \u001b[0;34m=\u001b[0m \u001b[0mself\u001b[0m\u001b[0;34m.\u001b[0m\u001b[0mget_sheet_by_index\u001b[0m\u001b[0;34m(\u001b[0m\u001b[0masheetname\u001b[0m\u001b[0;34m)\u001b[0m\u001b[0;34m\u001b[0m\u001b[0;34m\u001b[0m\u001b[0m\n\u001b[1;32m    442\u001b[0m \u001b[0;34m\u001b[0m\u001b[0m\n\u001b[0;32m--> 443\u001b[0;31m             \u001b[0mdata\u001b[0m \u001b[0;34m=\u001b[0m \u001b[0mself\u001b[0m\u001b[0;34m.\u001b[0m\u001b[0mget_sheet_data\u001b[0m\u001b[0;34m(\u001b[0m\u001b[0msheet\u001b[0m\u001b[0;34m,\u001b[0m \u001b[0mconvert_float\u001b[0m\u001b[0;34m)\u001b[0m\u001b[0;34m\u001b[0m\u001b[0;34m\u001b[0m\u001b[0m\n\u001b[0m\u001b[1;32m    444\u001b[0m             \u001b[0musecols\u001b[0m \u001b[0;34m=\u001b[0m \u001b[0m_maybe_convert_usecols\u001b[0m\u001b[0;34m(\u001b[0m\u001b[0musecols\u001b[0m\u001b[0;34m)\u001b[0m\u001b[0;34m\u001b[0m\u001b[0;34m\u001b[0m\u001b[0m\n\u001b[1;32m    445\u001b[0m \u001b[0;34m\u001b[0m\u001b[0m\n",
      "\u001b[0;32m~/anaconda3/envs/heytrt3.7/lib/python3.6/site-packages/pandas/io/excel/_openpyxl.py\u001b[0m in \u001b[0;36mget_sheet_data\u001b[0;34m(self, sheet, convert_float)\u001b[0m\n\u001b[1;32m    533\u001b[0m         \u001b[0mdata\u001b[0m\u001b[0;34m:\u001b[0m \u001b[0mList\u001b[0m\u001b[0;34m[\u001b[0m\u001b[0mList\u001b[0m\u001b[0;34m[\u001b[0m\u001b[0mScalar\u001b[0m\u001b[0;34m]\u001b[0m\u001b[0;34m]\u001b[0m \u001b[0;34m=\u001b[0m \u001b[0;34m[\u001b[0m\u001b[0;34m]\u001b[0m\u001b[0;34m\u001b[0m\u001b[0;34m\u001b[0m\u001b[0m\n\u001b[1;32m    534\u001b[0m         \u001b[0;32mfor\u001b[0m \u001b[0mrow\u001b[0m \u001b[0;32min\u001b[0m \u001b[0msheet\u001b[0m\u001b[0;34m.\u001b[0m\u001b[0mrows\u001b[0m\u001b[0;34m:\u001b[0m\u001b[0;34m\u001b[0m\u001b[0;34m\u001b[0m\u001b[0m\n\u001b[0;32m--> 535\u001b[0;31m             \u001b[0mdata\u001b[0m\u001b[0;34m.\u001b[0m\u001b[0mappend\u001b[0m\u001b[0;34m(\u001b[0m\u001b[0;34m[\u001b[0m\u001b[0mself\u001b[0m\u001b[0;34m.\u001b[0m\u001b[0m_convert_cell\u001b[0m\u001b[0;34m(\u001b[0m\u001b[0mcell\u001b[0m\u001b[0;34m,\u001b[0m \u001b[0mconvert_float\u001b[0m\u001b[0;34m)\u001b[0m \u001b[0;32mfor\u001b[0m \u001b[0mcell\u001b[0m \u001b[0;32min\u001b[0m \u001b[0mrow\u001b[0m\u001b[0;34m]\u001b[0m\u001b[0;34m)\u001b[0m\u001b[0;34m\u001b[0m\u001b[0;34m\u001b[0m\u001b[0m\n\u001b[0m\u001b[1;32m    536\u001b[0m \u001b[0;34m\u001b[0m\u001b[0m\n\u001b[1;32m    537\u001b[0m         \u001b[0;32mreturn\u001b[0m \u001b[0mdata\u001b[0m\u001b[0;34m\u001b[0m\u001b[0;34m\u001b[0m\u001b[0m\n",
      "\u001b[0;32m~/anaconda3/envs/heytrt3.7/lib/python3.6/site-packages/pandas/io/excel/_openpyxl.py\u001b[0m in \u001b[0;36m<listcomp>\u001b[0;34m(.0)\u001b[0m\n\u001b[1;32m    533\u001b[0m         \u001b[0mdata\u001b[0m\u001b[0;34m:\u001b[0m \u001b[0mList\u001b[0m\u001b[0;34m[\u001b[0m\u001b[0mList\u001b[0m\u001b[0;34m[\u001b[0m\u001b[0mScalar\u001b[0m\u001b[0;34m]\u001b[0m\u001b[0;34m]\u001b[0m \u001b[0;34m=\u001b[0m \u001b[0;34m[\u001b[0m\u001b[0;34m]\u001b[0m\u001b[0;34m\u001b[0m\u001b[0;34m\u001b[0m\u001b[0m\n\u001b[1;32m    534\u001b[0m         \u001b[0;32mfor\u001b[0m \u001b[0mrow\u001b[0m \u001b[0;32min\u001b[0m \u001b[0msheet\u001b[0m\u001b[0;34m.\u001b[0m\u001b[0mrows\u001b[0m\u001b[0;34m:\u001b[0m\u001b[0;34m\u001b[0m\u001b[0;34m\u001b[0m\u001b[0m\n\u001b[0;32m--> 535\u001b[0;31m             \u001b[0mdata\u001b[0m\u001b[0;34m.\u001b[0m\u001b[0mappend\u001b[0m\u001b[0;34m(\u001b[0m\u001b[0;34m[\u001b[0m\u001b[0mself\u001b[0m\u001b[0;34m.\u001b[0m\u001b[0m_convert_cell\u001b[0m\u001b[0;34m(\u001b[0m\u001b[0mcell\u001b[0m\u001b[0;34m,\u001b[0m \u001b[0mconvert_float\u001b[0m\u001b[0;34m)\u001b[0m \u001b[0;32mfor\u001b[0m \u001b[0mcell\u001b[0m \u001b[0;32min\u001b[0m \u001b[0mrow\u001b[0m\u001b[0;34m]\u001b[0m\u001b[0;34m)\u001b[0m\u001b[0;34m\u001b[0m\u001b[0;34m\u001b[0m\u001b[0m\n\u001b[0m\u001b[1;32m    536\u001b[0m \u001b[0;34m\u001b[0m\u001b[0m\n\u001b[1;32m    537\u001b[0m         \u001b[0;32mreturn\u001b[0m \u001b[0mdata\u001b[0m\u001b[0;34m\u001b[0m\u001b[0;34m\u001b[0m\u001b[0m\n",
      "\u001b[0;32m~/anaconda3/envs/heytrt3.7/lib/python3.6/site-packages/pandas/io/excel/_openpyxl.py\u001b[0m in \u001b[0;36m_convert_cell\u001b[0;34m(self, cell, convert_float)\u001b[0m\n\u001b[1;32m    511\u001b[0m \u001b[0;34m\u001b[0m\u001b[0m\n\u001b[1;32m    512\u001b[0m         \u001b[0;31m# TODO: replace with openpyxl constants\u001b[0m\u001b[0;34m\u001b[0m\u001b[0;34m\u001b[0m\u001b[0;34m\u001b[0m\u001b[0m\n\u001b[0;32m--> 513\u001b[0;31m         \u001b[0;32mif\u001b[0m \u001b[0mcell\u001b[0m\u001b[0;34m.\u001b[0m\u001b[0mis_date\u001b[0m\u001b[0;34m:\u001b[0m\u001b[0;34m\u001b[0m\u001b[0;34m\u001b[0m\u001b[0m\n\u001b[0m\u001b[1;32m    514\u001b[0m             \u001b[0;32mreturn\u001b[0m \u001b[0mcell\u001b[0m\u001b[0;34m.\u001b[0m\u001b[0mvalue\u001b[0m\u001b[0;34m\u001b[0m\u001b[0;34m\u001b[0m\u001b[0m\n\u001b[1;32m    515\u001b[0m         \u001b[0;32melif\u001b[0m \u001b[0mcell\u001b[0m\u001b[0;34m.\u001b[0m\u001b[0mdata_type\u001b[0m \u001b[0;34m==\u001b[0m \u001b[0;34m\"e\"\u001b[0m\u001b[0;34m:\u001b[0m\u001b[0;34m\u001b[0m\u001b[0;34m\u001b[0m\u001b[0m\n",
      "\u001b[0;32m~/anaconda3/envs/heytrt3.7/lib/python3.6/site-packages/openpyxl/cell/read_only.py\u001b[0m in \u001b[0;36mis_date\u001b[0;34m(self)\u001b[0m\n\u001b[1;32m     99\u001b[0m     \u001b[0;34m@\u001b[0m\u001b[0mproperty\u001b[0m\u001b[0;34m\u001b[0m\u001b[0;34m\u001b[0m\u001b[0m\n\u001b[1;32m    100\u001b[0m     \u001b[0;32mdef\u001b[0m \u001b[0mis_date\u001b[0m\u001b[0;34m(\u001b[0m\u001b[0mself\u001b[0m\u001b[0;34m)\u001b[0m\u001b[0;34m:\u001b[0m\u001b[0;34m\u001b[0m\u001b[0;34m\u001b[0m\u001b[0m\n\u001b[0;32m--> 101\u001b[0;31m         \u001b[0;32mreturn\u001b[0m \u001b[0mCell\u001b[0m\u001b[0;34m.\u001b[0m\u001b[0mis_date\u001b[0m\u001b[0;34m.\u001b[0m\u001b[0m__get__\u001b[0m\u001b[0;34m(\u001b[0m\u001b[0mself\u001b[0m\u001b[0;34m)\u001b[0m\u001b[0;34m\u001b[0m\u001b[0;34m\u001b[0m\u001b[0m\n\u001b[0m\u001b[1;32m    102\u001b[0m \u001b[0;34m\u001b[0m\u001b[0m\n\u001b[1;32m    103\u001b[0m \u001b[0;34m\u001b[0m\u001b[0m\n",
      "\u001b[0;32m~/anaconda3/envs/heytrt3.7/lib/python3.6/site-packages/openpyxl/cell/cell.py\u001b[0m in \u001b[0;36mis_date\u001b[0;34m(self)\u001b[0m\n\u001b[1;32m    251\u001b[0m         \"\"\"\n\u001b[1;32m    252\u001b[0m         return self.data_type == 'd' or (\n\u001b[0;32m--> 253\u001b[0;31m             \u001b[0mself\u001b[0m\u001b[0;34m.\u001b[0m\u001b[0mdata_type\u001b[0m \u001b[0;34m==\u001b[0m \u001b[0;34m'n'\u001b[0m \u001b[0;32mand\u001b[0m \u001b[0mis_date_format\u001b[0m\u001b[0;34m(\u001b[0m\u001b[0mself\u001b[0m\u001b[0;34m.\u001b[0m\u001b[0mnumber_format\u001b[0m\u001b[0;34m)\u001b[0m\u001b[0;34m\u001b[0m\u001b[0;34m\u001b[0m\u001b[0m\n\u001b[0m\u001b[1;32m    254\u001b[0m             )\n\u001b[1;32m    255\u001b[0m \u001b[0;34m\u001b[0m\u001b[0m\n",
      "\u001b[0;32m~/anaconda3/envs/heytrt3.7/lib/python3.6/site-packages/openpyxl/styles/numbers.py\u001b[0m in \u001b[0;36mis_date_format\u001b[0;34m(fmt)\u001b[0m\n\u001b[1;32m    106\u001b[0m         \u001b[0;32mreturn\u001b[0m \u001b[0;32mFalse\u001b[0m\u001b[0;34m\u001b[0m\u001b[0;34m\u001b[0m\u001b[0m\n\u001b[1;32m    107\u001b[0m     \u001b[0mfmt\u001b[0m \u001b[0;34m=\u001b[0m \u001b[0mfmt\u001b[0m\u001b[0;34m.\u001b[0m\u001b[0msplit\u001b[0m\u001b[0;34m(\u001b[0m\u001b[0;34m\";\"\u001b[0m\u001b[0;34m)\u001b[0m\u001b[0;34m[\u001b[0m\u001b[0;36m0\u001b[0m\u001b[0;34m]\u001b[0m \u001b[0;31m# only look at the first format\u001b[0m\u001b[0;34m\u001b[0m\u001b[0;34m\u001b[0m\u001b[0m\n\u001b[0;32m--> 108\u001b[0;31m     \u001b[0mfmt\u001b[0m \u001b[0;34m=\u001b[0m \u001b[0mSTRIP_RE\u001b[0m\u001b[0;34m.\u001b[0m\u001b[0msub\u001b[0m\u001b[0;34m(\u001b[0m\u001b[0;34m\"\"\u001b[0m\u001b[0;34m,\u001b[0m \u001b[0mfmt\u001b[0m\u001b[0;34m)\u001b[0m \u001b[0;31m# ignore some formats\u001b[0m\u001b[0;34m\u001b[0m\u001b[0;34m\u001b[0m\u001b[0m\n\u001b[0m\u001b[1;32m    109\u001b[0m     \u001b[0;32mreturn\u001b[0m \u001b[0mre\u001b[0m\u001b[0;34m.\u001b[0m\u001b[0msearch\u001b[0m\u001b[0;34m(\u001b[0m\u001b[0;34mr\"[^\\\\][dmhysDMHYS]\"\u001b[0m\u001b[0;34m,\u001b[0m \u001b[0mfmt\u001b[0m\u001b[0;34m)\u001b[0m \u001b[0;32mis\u001b[0m \u001b[0;32mnot\u001b[0m \u001b[0;32mNone\u001b[0m\u001b[0;34m\u001b[0m\u001b[0;34m\u001b[0m\u001b[0m\n\u001b[1;32m    110\u001b[0m \u001b[0;34m\u001b[0m\u001b[0m\n",
      "\u001b[0;31mKeyboardInterrupt\u001b[0m: "
     ]
    }
   ],
   "source": [
    "data_case= pd.read_excel(path_2,engine = \"openpyxl\",sheet_name ='확진자,사망자수(US 제외)' )\n",
    "data_case=data_case[data_case['Country'] =='South Korea']\n",
    "data_case.drop(['Province1','Province2'], axis=1, inplace=True)\n",
    "data_case"
   ]
  },
  {
   "cell_type": "markdown",
   "id": "0a99ad04",
   "metadata": {},
   "source": [
    "### [Ground-Truth] 확진자, 사망자 \n",
    "- 확진자의 경우, 크게 잘못된 값은 질병관리청을 참고하여 수정함."
   ]
  },
  {
   "cell_type": "code",
   "execution_count": null,
   "id": "6ee9aeb1",
   "metadata": {},
   "outputs": [],
   "source": [
    "## 과거 확진자, 사망자\n",
    "old_data= data_case[ data_case['tDate'].isin(train_date) ] #Confirmed, Deaths\n",
    "old_data = old_data.fillna(0)\n",
    "\n",
    "###### 확진자 데이터 수정(질병관리청 보도자료 참고)\n",
    "## 없는 데이터...\n",
    "old_data.loc[old_data['tDate']=='2021-09-25','Confirmed']= 3273\n",
    "old_data.loc[old_data['tDate']=='2021-10-03','Confirmed']= 2086\n",
    "\n",
    "## 튀는 데이터...\n",
    "old_data.loc[old_data['tDate']=='2021-09-26','Confirmed']= 2771\n",
    "old_data.loc[old_data['tDate']=='2021-10-04','Confirmed']= 1673\n",
    "old_data.reset_index(drop=True, inplace=True)\n",
    "old_data"
   ]
  },
  {
   "cell_type": "code",
   "execution_count": null,
   "id": "b5ff1150",
   "metadata": {},
   "outputs": [],
   "source": [
    "###### 21-11-03 기준으로 필요없어짐.\n",
    "## 누적사망자\n",
    "old_data['Cum_Deaths']=0.0\n",
    "for i in range(1,len(old_data)):\n",
    "    old_data.loc[[i],['Cum_Deaths']] = float(old_data.loc[[i],['Deaths']].values)+float(old_data.loc[[i-1],['Cum_Deaths']].values)\n",
    "old_data"
   ]
  },
  {
   "cell_type": "markdown",
   "id": "e7a31cc2",
   "metadata": {},
   "source": [
    "### [Ground-Truth] 중증자\n",
    "- 당일0시기준 위중증환자로, 이유엔 데이터는 2121-09-15 부터 있음.\n",
    "- 그 이전의 데이터는 path_3에서 가져옴."
   ]
  },
  {
   "cell_type": "code",
   "execution_count": null,
   "id": "0fe7b70c",
   "metadata": {},
   "outputs": [],
   "source": [
    "#일별 중증자 수 - severity\n",
    "data_sev_1= pd.read_excel(path_2,engine = \"openpyxl\",sheet_name ='확진자 관리현황',usecols = 'A,H' )\n",
    "\n",
    "sev_start_date = data_sev_1['tDate'][0]                # 시작 날짜(이전의 데이터를 붙이기 위해 필요)\n",
    "sev_end_date = data_sev_1['tDate'][len(data_sev_1)-1]  # 끝 날짜 (이후의 데이터를 붙이기 위해 필요)\n",
    "\n",
    "data_sev_1.rename(columns = {'tDate' : 'Date','TodayIllPatient':'Severity'}, inplace = True)\n",
    "data_sev_1_2 = data_sev_1.fillna(0)\n",
    "data_sev_1_2\n",
    "\n",
    "data_sev_2 = pd.read_csv(path_3,usecols=[0,6])\n",
    "data_sev_2['Date'] = pd.to_datetime(data_sev_2['Date'])\n",
    "old_sev = data_sev_2.loc[data_sev_2['Date']<sev_start_date]\n",
    "old_sev_1 = old_sev.fillna(0)\n",
    "old_sev_1\n",
    "\n",
    "old_severity = pd.concat([old_sev_1,data_sev_1_2])\n",
    "old_severity = old_severity[old_severity['Date'].isin(train_date)]\n",
    "old_severity"
   ]
  },
  {
   "cell_type": "markdown",
   "id": "144738c4",
   "metadata": {},
   "source": [
    "### [Prediction] 확진자"
   ]
  },
  {
   "cell_type": "code",
   "execution_count": null,
   "id": "5fb845d0",
   "metadata": {},
   "outputs": [],
   "source": [
    "tp_data = pd.read_csv(path_i)\n",
    "tp_data.head(5)"
   ]
  },
  {
   "cell_type": "code",
   "execution_count": null,
   "id": "b21518b6",
   "metadata": {},
   "outputs": [],
   "source": [
    "tp_data['TP.incidence']"
   ]
  },
  {
   "cell_type": "markdown",
   "id": "12f72b10",
   "metadata": {},
   "source": [
    "### [Prediction] 중증자, 사망자\n",
    "- 사망자는 누적값으로 결과가 나오므로 신규 사망자값을 계산 (시각화 단계에서 계산)\n",
    "- 중증자, 사망자의 경우 시각화 단계에서 offset을 곱해서 ground-truth에 피팅함."
   ]
  },
  {
   "cell_type": "code",
   "execution_count": null,
   "id": "82627b2f",
   "metadata": {},
   "outputs": [],
   "source": [
    "s_d_data = pd.read_csv(path_sd)\n",
    "s_d_data.head(5)"
   ]
  },
  {
   "cell_type": "markdown",
   "id": "4cf64093",
   "metadata": {},
   "source": [
    "## 3. 시각화"
   ]
  },
  {
   "cell_type": "markdown",
   "id": "dd63c20d",
   "metadata": {},
   "source": [
    "### 확진자 Plot 함수"
   ]
  },
  {
   "cell_type": "code",
   "execution_count": null,
   "id": "6b6eb5ee",
   "metadata": {},
   "outputs": [],
   "source": [
    "def TP_Plot(y,param,file_name,option):\n",
    "\n",
    "    ################스타일#######################################\n",
    "    fig = plt.figure(figsize=(40,15)) ## 캔버스 생성\n",
    "    fig.patch.set_facecolor('#050636') \n",
    "    plt.rcParams['text.color'] = 'w'\n",
    "    plt.rcParams['xtick.color'] = 'w'\n",
    "    plt.rcParams['ytick.color'] = 'w'\n",
    "    plt.rcParams['axes.spines.left'] = True\n",
    "    plt.rcParams['axes.facecolor']='#050636'\n",
    "    plt.grid(color='w', linestyle='-', linewidth=3,alpha = 0.5)\n",
    "    plt.gca().spines['bottom'].set_visible(True) #위 테두리\n",
    "    plt.gca().spines['left'].set_visible(True) #왼쪽 테두리\n",
    "    #############################################################\n",
    "   \n",
    "    low_data = y[0:all_seir_date]\n",
    "    low_data['tDate'] = date\n",
    "    \n",
    "    base_data = y[all_seir_date:all_seir_date*2]\n",
    "    base_data['tDate'] = date\n",
    "\n",
    "    high_data = y[all_seir_date*2:all_seir_date*3]\n",
    "    high_data['tDate'] = date\n",
    "\n",
    "    \n",
    "    ################ Ground Truth #######################################\n",
    "    plt.plot(old_data['tDate'], old_data['Confirmed'],color = '#2dcafd',  linewidth = 6)  ## 이유엔 데이터\n",
    "\n",
    "    \n",
    "    \n",
    "    ################ Low Data #######################################\n",
    "    plt.plot(predict_date, low_data.loc[(low_data['tDate']>=pre_date)&(low_data['tDate']<=end_date),'TP.incidence'], color ='#09d0a2', linewidth = 8)\n",
    "\n",
    "    plt.fill_between(predict_date, low_data.loc[(low_data['tDate']>=pre_date)&(low_data['tDate']<=end_date),'TP.incidence']-300, \n",
    "                    low_data.loc[(low_data['tDate']>=pre_date)&(low_data['tDate']<=end_date),'TP.incidence']+300, color = '#09d0a2',alpha=0.3)\n",
    "    \n",
    "    \n",
    "    \n",
    "    ################ Base Data #######################################\n",
    "    plt.plot(predict_date, base_data.loc[(base_data['tDate']>=pre_date)&(base_data['tDate']<=end_date),'TP.incidence'], color ='#f56be4', linewidth = 8)\n",
    "\n",
    "    plt.fill_between(predict_date,base_data.loc[(base_data['tDate']>=pre_date)&(base_data['tDate']<=end_date),'TP.incidence']-300, \n",
    "                    base_data.loc[(base_data['tDate']>=pre_date)&(base_data['tDate']<=end_date),'TP.incidence']+300, color = '#f56be4',alpha=0.3)\n",
    "    \n",
    "    \n",
    "    \n",
    "    ################ High Data #######################################\n",
    "    plt.plot(predict_date, high_data.loc[(high_data['tDate']>=pre_date)&(high_data['tDate']<=end_date),'TP.incidence'], color ='#f68960', linewidth = 8)\n",
    " \n",
    "    plt.fill_between(predict_date, high_data.loc[(high_data['tDate']>=pre_date)&(high_data['tDate']<=end_date),'TP.incidence']-300, \n",
    "                    high_data.loc[(high_data['tDate']>=pre_date)&(high_data['tDate']<=end_date),'TP.incidence']+300, color = '#f68960',alpha=0.3)\n",
    "    \n",
    "    \n",
    "    \n",
    "    ################ Legend #######################################\n",
    "    plt.legend(['Ground-Truth',param+' '+str(option[0]),param+' '+str(option[1]),param+' '+str(option[2])],fontsize=30,loc = 'upper left', edgecolor = 'w') #왜 이게 적용안되지?\n",
    "\n",
    "\n",
    "    plt.axvline(x = pre_date,linestyle = ':',color='w',linewidth=8, alpha = 0.7)\n",
    "    \n",
    "#     plt.title(file_name,fontsize=50)\n",
    "    plt.xticks([old_data.iloc[0,0],'2020-06-01','2020-11-01','2021-05-01',pre_date,'2022-04-01','2022-09-01','2023-03-01','2023-08-01',end_date],[str(old_data.iloc[0,0])[:10],'2020-06','2020-11','2021-05',str(pre_date)[:10],'2022-04','2022-09','2023-03','2023-08',str(end_date)[:10]],fontsize=30)\n",
    "    plt.yticks(fontsize = 30)\n",
    "    plt.tight_layout()\n",
    "    plt.savefig(save_path+\"/I/\"+file_name+\".png\",dpi=300)\n",
    "    plt.show()"
   ]
  },
  {
   "cell_type": "markdown",
   "id": "df3f20bd",
   "metadata": {},
   "source": [
    "### 중증자 Plot 함수"
   ]
  },
  {
   "cell_type": "code",
   "execution_count": null,
   "id": "02bc2674",
   "metadata": {},
   "outputs": [],
   "source": [
    "def S_Plot(y,param,file_name,option):\n",
    "    offset = 2\n",
    "    ################스타일#######################################\n",
    "    fig = plt.figure(figsize=(40,15)) ## 캔버스 생성\n",
    "    fig.patch.set_facecolor('#050636') \n",
    "    plt.rcParams['text.color'] = 'w'\n",
    "    plt.rcParams['xtick.color'] = 'w'\n",
    "    plt.rcParams['ytick.color'] = 'w'\n",
    "    plt.rcParams['axes.spines.left'] = True\n",
    "    plt.rcParams['axes.facecolor']='#050636'\n",
    "    plt.grid(color='w', linestyle='-', linewidth=3,alpha = 0.5)\n",
    "    plt.gca().spines['bottom'].set_visible(True) #위 테두리\n",
    "    plt.gca().spines['left'].set_visible(True) #왼쪽 테두리\n",
    "    #############################################################\n",
    "   \n",
    "    low_data = y[0:all_seir_date]\n",
    "    low_data['tDate'] = date\n",
    "    \n",
    "    base_data = y[all_seir_date:all_seir_date*2]\n",
    "    base_data['tDate'] = date\n",
    "\n",
    "    high_data = y[all_seir_date*2:all_seir_date*3]\n",
    "    high_data['tDate'] = date\n",
    "\n",
    "\n",
    "    ################ Ground Truth #######################################\n",
    "    plt.plot(old_severity['Date'], old_severity['Severity'],color = '#2dcafd', linewidth = 6)\n",
    "\n",
    "    \n",
    "    \n",
    "    ################ Low Data #######################################\n",
    "    plt.plot(predict_date, low_data.loc[(low_data['tDate']>=pre_date)&(low_data['tDate']<=end_date),'S']*offset, color ='#09d0a2', linewidth = 8)\n",
    "\n",
    "    plt.fill_between(predict_date, low_data.loc[(low_data['tDate']>=pre_date)&(low_data['tDate']<=end_date),'S']*offset-50, \n",
    "                    low_data.loc[(low_data['tDate']>=pre_date)&(low_data['tDate']<=end_date),'S']*offset+50, color = '#09d0a2',alpha=0.3)\n",
    "    \n",
    "    \n",
    "    \n",
    "    ################ Base Data #######################################\n",
    "    plt.plot(predict_date, base_data.loc[(base_data['tDate']>=pre_date)&(base_data['tDate']<=end_date),'S']*offset, color ='#f56be4', linewidth = 8)\n",
    "\n",
    "    plt.fill_between(predict_date,base_data.loc[(base_data['tDate']>=pre_date)&(base_data['tDate']<=end_date),'S']*offset-50, \n",
    "                    base_data.loc[(base_data['tDate']>=pre_date)&(base_data['tDate']<=end_date),'S']*offset+50, color = '#f56be4',alpha=0.3)\n",
    "    \n",
    "\n",
    "    \n",
    "    ################ High Data #######################################\n",
    "    plt.plot(predict_date, high_data.loc[(high_data['tDate']>=pre_date)&(high_data['tDate']<=end_date),'S']*offset, color ='#f68960', linewidth = 8)\n",
    " \n",
    "    plt.fill_between(predict_date, high_data.loc[(high_data['tDate']>=pre_date)&(high_data['tDate']<=end_date),'S']*offset-50, \n",
    "                    high_data.loc[(high_data['tDate']>=pre_date)&(high_data['tDate']<=end_date),'S']*offset+50, color = '#f68960',alpha=0.3)\n",
    "    \n",
    "    \n",
    "    \n",
    "    ################ Legend #######################################\n",
    "    plt.legend(['Ground-Truth',param+' '+str(option[0]),param+' '+str(option[1]),param+' '+str(option[2])],fontsize=30,loc = 'upper left', edgecolor = 'w') #왜 이게 적용안되지?\n",
    "\n",
    "\n",
    "    plt.axvline(x = pre_date,linestyle = ':',color='w',linewidth=8, alpha = 0.7)\n",
    "    \n",
    "#     plt.title(file_name,fontsize=50)\n",
    "    plt.xticks([old_severity.iloc[0,0],'2020-06-01','2020-11-01','2021-05-01',pre_date,'2022-04-01','2022-09-01','2023-03-01','2023-08-01',end_date],[str(old_severity.iloc[0,0])[:10],'2020-06','2020-11','2021-05',str(pre_date)[:10],'2022-04','2022-09','2023-03','2023-08',str(end_date)[:10]],fontsize=30)\n",
    "    plt.yticks(fontsize = 30)\n",
    "    plt.tight_layout()\n",
    "    plt.savefig(save_path+\"/S/\"+file_name+\".png\",dpi=300)\n",
    "    plt.show()"
   ]
  },
  {
   "cell_type": "markdown",
   "id": "5659de5a",
   "metadata": {},
   "source": [
    "### 사망자 Plot 함수"
   ]
  },
  {
   "cell_type": "code",
   "execution_count": null,
   "id": "c1fe76e3",
   "metadata": {},
   "outputs": [],
   "source": [
    "def D_Plot(y,param,file_name,option):\n",
    "    offset = 10\n",
    "    ################스타일#######################################\n",
    "    fig = plt.figure(figsize=(40,15)) ## 캔버스 생성\n",
    "    fig.patch.set_facecolor('#050636') \n",
    "    plt.rcParams['text.color'] = 'w'\n",
    "    plt.rcParams['xtick.color'] = 'w'\n",
    "    plt.rcParams['ytick.color'] = 'w'\n",
    "    plt.rcParams['axes.spines.left'] = True\n",
    "    plt.rcParams['axes.facecolor']='#050636'\n",
    "    plt.grid(color='w', linestyle='-', linewidth=3,alpha = 0.5)\n",
    "    plt.gca().spines['bottom'].set_visible(True) #위 테두리\n",
    "    plt.gca().spines['left'].set_visible(True) #왼쪽 테두리\n",
    "    #############################################################\n",
    "   \n",
    "    low_data = y[0:all_seir_date]\n",
    "    low_data['tDate'] = date\n",
    "    low_data.reset_index(drop=True, inplace=True)\n",
    "    ### low_data 신규 사망자\n",
    "    low_data['Deaths']=0.0\n",
    "    for i in range(1,len(low_data)):\n",
    "        low_data.loc[[i],['Deaths']] = float(low_data.loc[[i],['D']].values)-float(low_data.loc[[i-1],['D']].values)\n",
    "    \n",
    "    \n",
    "    base_data = y[all_seir_date:all_seir_date*2]\n",
    "    base_data['tDate'] = date\n",
    "    base_data.reset_index(drop=True, inplace=True)\n",
    "    ### base_data 신규 사망자\n",
    "    base_data['Deaths']=0.0\n",
    "    for i in range(1,len(base_data)):\n",
    "        base_data.loc[[i],['Deaths']] = float(base_data.loc[[i],['D']].values)-float(base_data.loc[[i-1],['D']].values)\n",
    "\n",
    "    high_data = y[all_seir_date*2:all_seir_date*3]\n",
    "    high_data['tDate'] = date\n",
    "    high_data.reset_index(drop=True, inplace=True)\n",
    "    ### high_data 신규 사망자\n",
    "    high_data['Deaths']=0.0\n",
    "    for i in range(1,len(high_data)):\n",
    "        high_data.loc[[i],['Deaths']] = float(high_data.loc[[i],['D']].values)-float(high_data.loc[[i-1],['D']].values)\n",
    "\n",
    "\n",
    "    ################ Ground Truth #######################################\n",
    "    plt.plot(old_data['tDate'], old_data['Deaths'],color = '#2dcafd', linewidth = 6)\n",
    "\n",
    "    \n",
    "    \n",
    "    ################ Low Data #######################################\n",
    "    plt.plot(predict_date, low_data.loc[(low_data['tDate']>=pre_date)&(low_data['tDate']<=end_date),'Deaths']*offset, color ='#09d0a2', linewidth = 8)\n",
    "\n",
    "    plt.fill_between(predict_date, low_data.loc[(low_data['tDate']>=pre_date)&(low_data['tDate']<=end_date),'Deaths']*offset-3, \n",
    "                    low_data.loc[(low_data['tDate']>=pre_date)&(low_data['tDate']<=end_date),'Deaths']*offset+3, color = '#09d0a2',alpha=0.3)\n",
    "    \n",
    "    \n",
    "    \n",
    "    ################ Base Data #######################################\n",
    "    plt.plot(predict_date, base_data.loc[(base_data['tDate']>=pre_date)&(base_data['tDate']<=end_date),'Deaths']*offset, color ='#f56be4', linewidth = 8)\n",
    "\n",
    "    plt.fill_between(predict_date,base_data.loc[(base_data['tDate']>=pre_date)&(base_data['tDate']<=end_date),'Deaths']*offset-3, \n",
    "                    base_data.loc[(base_data['tDate']>=pre_date)&(base_data['tDate']<=end_date),'Deaths']*offset+3, color = '#f56be4',alpha=0.3)\n",
    "    \n",
    "    \n",
    "    \n",
    "    ################ High Data #######################################\n",
    "    plt.plot(predict_date, high_data.loc[(high_data['tDate']>=pre_date)&(high_data['tDate']<=end_date),'Deaths']*offset, color ='#f68960', linewidth = 8)\n",
    " \n",
    "    plt.fill_between(predict_date, high_data.loc[(high_data['tDate']>=pre_date)&(high_data['tDate']<=end_date),'Deaths']*offset-3, \n",
    "                    high_data.loc[(high_data['tDate']>=pre_date)&(high_data['tDate']<=end_date),'Deaths']*offset+3, color = '#f68960',alpha=0.3)\n",
    "    \n",
    "    \n",
    "    \n",
    "    \n",
    "    \n",
    "    ################ Legend #######################################\n",
    "    plt.legend(['Ground-Truth',param+' '+str(option[0]),param+' '+str(option[1]),param+' '+str(option[2])],fontsize=30,loc = 'upper left', edgecolor = 'w') #왜 이게 적용안되지?\n",
    "\n",
    "\n",
    "    plt.axvline(x = pre_date,linestyle = ':',color='w',linewidth=8, alpha = 0.7)\n",
    "    \n",
    "#     plt.title(file_name,fontsize=50)\n",
    "    plt.xticks([old_data.iloc[0,0],'2020-06-01','2020-11-01','2021-05-01',pre_date,'2022-04-01','2022-09-01','2023-03-01','2023-08-01',end_date],[str(old_data.iloc[0,0])[:10],'2020-06','2020-11','2021-05',str(pre_date)[:10],'2022-04','2022-09','2023-03','2023-08',str(end_date)[:10]],fontsize=30)\n",
    "    plt.yticks(fontsize = 30)\n",
    "    plt.tight_layout()\n",
    "    plt.savefig(save_path+\"/D/\"+file_name+\".png\",dpi=300)\n",
    "    plt.show()"
   ]
  },
  {
   "cell_type": "code",
   "execution_count": null,
   "id": "bc55f3bf",
   "metadata": {
    "scrolled": true
   },
   "outputs": [],
   "source": [
    "for n in npi:\n",
    "    if n == npi[0]:      # npi값이 작을수록 값이 높게나옴\n",
    "        file_name_n1 = 'Base'\n",
    "    elif n == npi[1]:   # 2 weeks\n",
    "        file_name_n1 = 'Low'\n",
    "#     elif n == npi[2]:   # 4 weeks\n",
    "#         file_name_n1 = 'n_High'\n",
    "    for v in vac:\n",
    "        if v == vac[1]:      # base\n",
    "            file_name_vac = 'Base'\n",
    "#             y_lim = [-300,13000]\n",
    "        elif v == vac[0]:   # low\n",
    "            file_name_vac = 'Low'\n",
    "#             y_lim = [-300,100000]\n",
    "        elif v == vac[2]:   # high\n",
    "            file_name_vac = 'High'\n",
    "#             y_lim = [-300,4000]\n",
    "#         for n2 in npi2:\n",
    "#             if n2 == npi2[1]:      # base\n",
    "#                 file_name_n2 = 'n2_Base'\n",
    "#             elif n2 == npi2[0]:   # low\n",
    "#                 file_name_n2 = 'n2_Low'\n",
    "# #             elif n2 == npi2[2]:   # high\n",
    "# #                 file_name_n2 = 'n2_High'\n",
    "        for t in test:\n",
    "            if t == test[1]:      # base\n",
    "                file_name_test = 'Base'\n",
    "            elif t == test[0]:   # low\n",
    "                file_name_test = 'Low'\n",
    "            elif t == test[2]:   # high\n",
    "                file_name_test = 'High'\n",
    "            \n",
    "            file_name = file_name_date+'_'+file_name_vac+\"_300_\"+file_name_n1\n",
    "            rt_tp_data = tp_data.loc[(tp_data['NPI']==n)&(tp_data['VACCINE_']==v)&(tp_data['TEST_']==t)]\n",
    "            rt_s_d_data = s_d_data.loc[(s_d_data['NPI']==n)&(s_d_data['VACCINE_']==v)&(tp_data['TEST_']==t)]\n",
    "            if t == test[1]:\n",
    "                TP_Plot(rt_tp_data,'RT',file_name,rt)\n",
    "                S_Plot(rt_s_d_data,'RT',file_name,rt)\n",
    "                D_Plot(rt_s_d_data,'RT',file_name,rt)\n"
   ]
  },
  {
   "cell_type": "code",
   "execution_count": null,
   "id": "f6cdc403",
   "metadata": {},
   "outputs": [],
   "source": [
    "# for n in npi:\n",
    "#     if n == npi[1]:      # 0 week\n",
    "#         file_name_n1 = 'n_Base'\n",
    "#     elif n == npi[0]:   # 2 weeks\n",
    "#         file_name_n1 = 'n_Low'\n",
    "#     elif n == npi[2]:   # 4 weeks\n",
    "#         file_name_n1 = 'n_High'\n",
    "#     for v in vac:\n",
    "#         if v == vac[1]:      # base\n",
    "#             file_name_vac = 'v_Base'\n",
    "#         elif v == vac[0]:   # low\n",
    "#             file_name_vac = 'v_Low'\n",
    "#         elif v == vac[2]:   # high\n",
    "#             file_name_vac = 'v_High'\n",
    "#         for n2 in npi2:\n",
    "#             if n2 == npi2[1]:      # base\n",
    "#                 file_name_n2 = 'n2_Base'\n",
    "#             elif n2 == npi2[0]:   # low\n",
    "#                 file_name_n2 = 'n2_Low'\n",
    "# #             elif n2 == npi2[2]:   # high\n",
    "# #                 file_name_n2 = 'n2_High'\n",
    "#             for t in test:\n",
    "#                 if t == test[1]:      # base\n",
    "#                     file_name_test = 't_Base'\n",
    "#                 elif t == test[0]:   # low\n",
    "#                     file_name_test = 't_Low'\n",
    "#                 elif t == test[2]:   # high\n",
    "#                     file_name_test = 't_High'\n",
    "\n",
    "#                 file_name = file_name_date+'_'+file_name_vac+\"_\"+file_name_n1+\"_\"+file_name_n2+\"_\"+file_name_test\n",
    "#                 rt_tp_data = tp_data.loc[(tp_data['NPI']==n)&(tp_data['VACCINE_']==v)&(tp_data['TEST_']==t)]\n",
    "#         #         rt_s_d_data = s_d_data.loc[(s_d_data['NPI_']==n)&(s_d_data['VACCINE_']==v)&(tp_data['TEST_']==test[0])]\n",
    "#                 TP_Plot(rt_tp_data,'RT',file_name,rt)\n",
    "#         #         S_Plot(rt_s_d_data,'RT',file_name,rt)\n",
    "#         #         D_Plot(rt_s_d_data,'RT',file_name,rt)"
   ]
  },
  {
   "cell_type": "code",
   "execution_count": null,
   "id": "e26635ff",
   "metadata": {},
   "outputs": [],
   "source": []
  },
  {
   "cell_type": "code",
   "execution_count": null,
   "id": "27331dc3",
   "metadata": {},
   "outputs": [],
   "source": []
  }
 ],
 "metadata": {
  "kernelspec": {
   "display_name": "Python 3",
   "language": "python",
   "name": "python3"
  },
  "language_info": {
   "codemirror_mode": {
    "name": "ipython",
    "version": 3
   },
   "file_extension": ".py",
   "mimetype": "text/x-python",
   "name": "python",
   "nbconvert_exporter": "python",
   "pygments_lexer": "ipython3",
   "version": "3.6.13"
  }
 },
 "nbformat": 4,
 "nbformat_minor": 5
}
