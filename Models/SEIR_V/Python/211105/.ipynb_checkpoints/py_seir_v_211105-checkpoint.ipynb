{
 "cells": [
  {
   "cell_type": "code",
   "execution_count": 1,
   "id": "5eb8b23c",
   "metadata": {},
   "outputs": [],
   "source": [
    "import pandas as pd\n",
    "import numpy as np\n",
    "import matplotlib.pyplot as plt\n",
    "from datetime import timedelta\n",
    "from sklearn.preprocessing import MinMaxScaler\n",
    "from sklearn.preprocessing import StandardScaler\n",
    "\n",
    "from sklearn.datasets import load_iris\n",
    "import subprocess\n",
    "import pyreadr\n",
    "import math\n",
    "import os"
   ]
  },
  {
   "cell_type": "markdown",
   "id": "0b608f51",
   "metadata": {},
   "source": [
    "## R 코드 실행\n",
    "- 12시간 이상 소요"
   ]
  },
  {
   "cell_type": "code",
   "execution_count": 2,
   "id": "d187b265",
   "metadata": {},
   "outputs": [
    {
     "ename": "NameError",
     "evalue": "name 'subprocess' is not defined",
     "output_type": "error",
     "traceback": [
      "\u001b[0;31m---------------------------------------------------------------------------\u001b[0m",
      "\u001b[0;31mNameError\u001b[0m                                 Traceback (most recent call last)",
      "\u001b[0;32m<ipython-input-2-4c45ecbaddf2>\u001b[0m in \u001b[0;36m<module>\u001b[0;34m\u001b[0m\n\u001b[1;32m      4\u001b[0m \u001b[0mpath2script\u001b[0m \u001b[0;34m=\u001b[0m \u001b[0;34m'../../../../02_code/SEIR_V/R/211105/r_swar_211105.R'\u001b[0m\u001b[0;34m\u001b[0m\u001b[0;34m\u001b[0m\u001b[0m\n\u001b[1;32m      5\u001b[0m \u001b[0;34m\u001b[0m\u001b[0m\n\u001b[0;32m----> 6\u001b[0;31m \u001b[0mretcode\u001b[0m \u001b[0;34m=\u001b[0m \u001b[0msubprocess\u001b[0m\u001b[0;34m.\u001b[0m\u001b[0mcall\u001b[0m\u001b[0;34m(\u001b[0m\u001b[0;34m[\u001b[0m\u001b[0mcommand\u001b[0m\u001b[0;34m,\u001b[0m \u001b[0marg\u001b[0m\u001b[0;34m,\u001b[0m \u001b[0mpath2script\u001b[0m\u001b[0;34m]\u001b[0m\u001b[0;34m)\u001b[0m\u001b[0;34m\u001b[0m\u001b[0;34m\u001b[0m\u001b[0m\n\u001b[0m",
      "\u001b[0;31mNameError\u001b[0m: name 'subprocess' is not defined"
     ]
    }
   ],
   "source": [
    "#####SEIR_V\n",
    "command = '/home/sysadm/anaconda3/envs/gil/bin/Rscript'\n",
    "arg = '--vanilla'\n",
    "path2script = '../../../../02_code/SEIR_V/R/211105/r_swar_211105.R'\n",
    "\n",
    "retcode = subprocess.call([command, arg, path2script])"
   ]
  },
  {
   "cell_type": "code",
   "execution_count": null,
   "id": "40b4b02a",
   "metadata": {},
   "outputs": [],
   "source": [
    "# # Date range\n",
    "file_name_date = '20230531'\n",
    "start_date = pd.Timestamp('2020-01-22')\n",
    "sev_start_date = pd.Timestamp(\"2020-10-01\")\n",
    "pre_date = pd.Timestamp('2021-08-20') # 예측 시작날짜\n",
    "end_date = pd.Timestamp('2023-05-31') # 예측 끝 날짜\n",
    "# # train_date = pd.date_range(start_date,pre_date-timedelta(days=1))\n",
    "# train_date = pd.date_range(start_date,pre_date)\n",
    "\n",
    "# predict_date = pd.date_range(pre_date,end_date) # 예측 날짜 범위\n",
    "# date = pd.date_range(seir_start_date,end_date)"
   ]
  },
  {
   "cell_type": "markdown",
   "id": "e3a28536",
   "metadata": {},
   "source": [
    "# 경로 설정"
   ]
  },
  {
   "cell_type": "code",
   "execution_count": null,
   "id": "e251c4d5",
   "metadata": {},
   "outputs": [],
   "source": [
    "## Ground-Truth\n",
    "path_1 = \"../../../../01_data/국제/수집데이터_211013.xlsx\" # 국제데이터\n",
    "\n",
    "## output data\n",
    "path_2 = \".../../../../03_result/SEIR_V/211105/seir_v_211105.csv\"\n",
    "\n",
    "## image\n",
    "save_path = \"../../../../04_image/211105/211105/MA/SEIR_V/\" # 이미지 저장 폴더"
   ]
  },
  {
   "cell_type": "markdown",
   "id": "1d438517",
   "metadata": {},
   "source": [
    "# Ground-Truth\n",
    "###### (이유엔 데이터)"
   ]
  },
  {
   "cell_type": "code",
   "execution_count": null,
   "id": "a85dcd37",
   "metadata": {},
   "outputs": [],
   "source": [
    "### 확진자, 사망자\n",
    "data_case= pd.read_excel(path_1,engine = \"openpyxl\",sheet_name ='확진자,사망자수(US 제외)' )\n",
    "data_case=data_case[data_case['Country'] =='South Korea']\n",
    "data_case['tDate'] = pd.to_datetime(data_case['tDate'], format=\"%Y-%m-%d\")\n",
    "#df_= df_1_2.drop(['Province1','Province2','Unnamed: 6'], axis=1, inplace=True)\n",
    "data_case.drop(['Province1','Province2'], axis=1, inplace=True)\n",
    "data_case = data_case.fillna(0)\n",
    "data_case.reset_index(drop=True, inplace=True)\n",
    "# old_data= data_case[ data_case['tDate'].isin(train_date) ] #Confirmed, Deaths\n",
    "# old_data = old_data.fillna(0)\n",
    "# old_data"
   ]
  },
  {
   "cell_type": "code",
   "execution_count": null,
   "id": "af184d5b",
   "metadata": {},
   "outputs": [],
   "source": [
    "data_case"
   ]
  },
  {
   "cell_type": "code",
   "execution_count": null,
   "id": "ba325e98",
   "metadata": {},
   "outputs": [],
   "source": [
    "data_case.loc[[3],['Deaths']].values"
   ]
  },
  {
   "cell_type": "code",
   "execution_count": null,
   "id": "63da7220",
   "metadata": {},
   "outputs": [],
   "source": [
    "### 누적 확진자\n",
    "data_case['Cum_Deaths']=0.0\n",
    "for i in range(1,len(data_case)):\n",
    "    data_case.loc[[i],['Cum_Deaths']] = float(data_case.loc[[i],['Deaths']].values)+float(data_case.loc[[i-1],['Cum_Deaths']].values)\n",
    "data_case"
   ]
  },
  {
   "cell_type": "code",
   "execution_count": null,
   "id": "88c1f0b5",
   "metadata": {},
   "outputs": [],
   "source": [
    "aug20_cum_deaths = float(data_case.loc[data_case['tDate']=='2021-08-20','Cum_Deaths'])\n",
    "aug20_cum_deaths"
   ]
  },
  {
   "cell_type": "code",
   "execution_count": null,
   "id": "23e48a4a",
   "metadata": {},
   "outputs": [],
   "source": [
    "### 중증자\n",
    "old_severity= pd.read_excel(path_1, engine = \"openpyxl\",usecols='A,H',sheet_name ='확진자 관리현황')\n",
    "old_severity.columns = ['tDate','Severity']\n",
    "old_severity['tDate'] = pd.to_datetime(old_severity['tDate'], format=\"%Y-%m-%d\")\n",
    "old_severity = old_severity.fillna(0)\n",
    "old_severity"
   ]
  },
  {
   "cell_type": "markdown",
   "id": "3d0723da",
   "metadata": {},
   "source": [
    "# Result csv"
   ]
  },
  {
   "cell_type": "code",
   "execution_count": null,
   "id": "edf1180e",
   "metadata": {},
   "outputs": [],
   "source": [
    "Rt = [2.5, 2.75, 3.0, 3.5, 4.5]"
   ]
  },
  {
   "cell_type": "code",
   "execution_count": null,
   "id": "c71d3705",
   "metadata": {},
   "outputs": [],
   "source": [
    "final_list = pd.read_csv(path_2)\n",
    "final_list = final_list.drop(['Unnamed: 0'],axis=1)\n",
    "final_list['date'] = pd.to_datetime(final_list['date'], format=\"%Y-%m-%d\")\n",
    "final_list = final_list[final_list['date']>=pre_date] ##예측 시작날짜 이전 데이터 잘라냄.\n",
    "\n",
    "final_list"
   ]
  },
  {
   "cell_type": "code",
   "execution_count": null,
   "id": "10b0040e",
   "metadata": {},
   "outputs": [],
   "source": [
    "final_list.columns"
   ]
  },
  {
   "cell_type": "markdown",
   "id": "f266b50f",
   "metadata": {},
   "source": [
    "## Rt 값에 따라 case, serve, death 데이터프레임 생성\n",
    "### plot에 불필요한 columns 제거"
   ]
  },
  {
   "cell_type": "code",
   "execution_count": null,
   "id": "d19806d0",
   "metadata": {},
   "outputs": [],
   "source": [
    "cnt = 0"
   ]
  },
  {
   "cell_type": "code",
   "execution_count": null,
   "id": "44bbd347",
   "metadata": {},
   "outputs": [],
   "source": [
    "incidence = pd.DataFrame({'Date': final_list['date']})\n",
    "severity = pd.DataFrame({'Date': final_list['date']})\n",
    "deaths = pd.DataFrame({'Date': final_list['date']})"
   ]
  },
  {
   "cell_type": "code",
   "execution_count": null,
   "id": "a5d7aeb2",
   "metadata": {},
   "outputs": [],
   "source": [
    "incidence['Date']"
   ]
  },
  {
   "cell_type": "code",
   "execution_count": null,
   "id": "9521b4a4",
   "metadata": {},
   "outputs": [],
   "source": [
    "for rt in Rt:\n",
    "    if rt == Rt[0]:\n",
    "        rt_0_case = final_list.iloc[:,cnt:cnt+33]\n",
    "        rt_0_case = rt_0_case.iloc[:,[5,6,13,20,23,24,27,28,31,32]]\n",
    "        rt_0_case.columns = ['Date', str(rt)+'_h',str(rt)+'_b',str(rt)+'_l',str(rt)+'_h_min',str(rt)+'_h_max',str(rt)+'_b_min',str(rt)+'_b_max',str(rt)+'_l_min',str(rt)+'_l_max']\n",
    "        rt_0_case['Date'] = pd.to_datetime(rt_0_case['Date'], format=\"%Y-%m-%d\")\n",
    "        ## incidence 에 추가\n",
    "        incidence = pd.merge(incidence,rt_0_case, how='left', left_on='Date', right_on='Date')\n",
    "        cnt += 33\n",
    "        \n",
    "        rt_0_serve = final_list.iloc[:,cnt:cnt+33]\n",
    "        rt_0_serve = rt_0_serve.iloc[:,[5,6,13,20,23,24,27,28,31,32]]\n",
    "        rt_0_serve.columns = ['Date', str(rt)+'_h',str(rt)+'_b',str(rt)+'_l',str(rt)+'_h_min',str(rt)+'_h_max',str(rt)+'_b_min',str(rt)+'_b_max',str(rt)+'_l_min',str(rt)+'_l_max']\n",
    "        rt_0_serve['Date'] = pd.to_datetime(rt_0_serve['Date'], format=\"%Y-%m-%d\")\n",
    "        ## severity 에 추가\n",
    "        severity = pd.merge(severity,rt_0_serve, how='left', left_on='Date', right_on='Date')\n",
    "        cnt += 33\n",
    "        \n",
    "        rt_0_death = final_list.iloc[:,cnt:cnt+33]\n",
    "        rt_0_death = rt_0_death.iloc[:,[5,6,13,20,23,24,27,28,31,32]]\n",
    "        rt_0_death.columns = ['Date', str(rt)+'_h',str(rt)+'_b',str(rt)+'_l',str(rt)+'_h_min',str(rt)+'_h_max',str(rt)+'_b_min',str(rt)+'_b_max',str(rt)+'_l_min',str(rt)+'_l_max']\n",
    "        rt_0_death['Date'] = pd.to_datetime(rt_0_death['Date'], format=\"%Y-%m-%d\")\n",
    "        ## deaths 에 추가\n",
    "        deaths = pd.merge(deaths,rt_0_death, how='left', left_on='Date', right_on='Date')\n",
    "        cnt += 33\n",
    "        \n",
    "    elif rt == Rt[1]:\n",
    "        rt_1_case = final_list.iloc[:,cnt:cnt+33]\n",
    "        rt_1_case = rt_1_case.iloc[:,[5,6,13,20,23,24,27,28,31,32]]\n",
    "        rt_1_case.columns = ['Date', str(rt)+'_h',str(rt)+'_b',str(rt)+'_l',str(rt)+'_h_min',str(rt)+'_h_max',str(rt)+'_b_min',str(rt)+'_b_max',str(rt)+'_l_min',str(rt)+'_l_max']\n",
    "        rt_1_case['Date'] = pd.to_datetime(rt_1_case['Date'], format=\"%Y-%m-%d\")\n",
    "        ## incidence 에 추가\n",
    "        incidence = pd.merge(incidence,rt_1_case, how='left', left_on='Date', right_on='Date')\n",
    "        cnt += 33\n",
    "        \n",
    "        rt_1_serve = final_list.iloc[:,cnt:cnt+33]\n",
    "        rt_1_serve = rt_1_serve.iloc[:,[5,6,13,20,23,24,27,28,31,32]]\n",
    "        rt_1_serve.columns = ['Date', str(rt)+'_h',str(rt)+'_b',str(rt)+'_l',str(rt)+'_h_min',str(rt)+'_h_max',str(rt)+'_b_min',str(rt)+'_b_max',str(rt)+'_l_min',str(rt)+'_l_max']\n",
    "        rt_1_serve['Date'] = pd.to_datetime(rt_1_serve['Date'], format=\"%Y-%m-%d\")\n",
    "        ## severity 에 추가\n",
    "        severity = pd.merge(severity,rt_1_serve, how='left', left_on='Date', right_on='Date')\n",
    "        cnt += 33\n",
    "        \n",
    "        rt_1_death = final_list.iloc[:,cnt:cnt+33]\n",
    "        rt_1_death = rt_1_death.iloc[:,[5,6,13,20,23,24,27,28,31,32]]\n",
    "        rt_1_death.columns = ['Date', str(rt)+'_h',str(rt)+'_b',str(rt)+'_l',str(rt)+'_h_min',str(rt)+'_h_max',str(rt)+'_b_min',str(rt)+'_b_max',str(rt)+'_l_min',str(rt)+'_l_max']\n",
    "        rt_1_death['Date'] = pd.to_datetime(rt_1_death['Date'], format=\"%Y-%m-%d\")\n",
    "        ## deaths 에 추가\n",
    "        deaths = pd.merge(deaths,rt_1_death, how='left', left_on='Date', right_on='Date')\n",
    "        cnt += 33\n",
    "        \n",
    "    elif rt == Rt[2]:\n",
    "        rt_2_case = final_list.iloc[:,cnt:cnt+33]\n",
    "        rt_2_case = rt_2_case.iloc[:,[5,6,13,20,23,24,27,28,31,32]]\n",
    "        rt_2_case.columns = ['Date', str(rt)+'_h',str(rt)+'_b',str(rt)+'_l',str(rt)+'_h_min',str(rt)+'_h_max',str(rt)+'_b_min',str(rt)+'_b_max',str(rt)+'_l_min',str(rt)+'_l_max']\n",
    "        rt_2_case['Date'] = pd.to_datetime(rt_2_case['Date'], format=\"%Y-%m-%d\")\n",
    "        ## incidence 에 추가\n",
    "        incidence = pd.merge(incidence,rt_2_case, how='left', left_on='Date', right_on='Date')\n",
    "        cnt += 33\n",
    "        \n",
    "        rt_2_serve = final_list.iloc[:,cnt:cnt+33]\n",
    "        rt_2_serve = rt_2_serve.iloc[:,[5,6,13,20,23,24,27,28,31,32]]\n",
    "        rt_2_serve.columns = ['Date', str(rt)+'_h',str(rt)+'_b',str(rt)+'_l',str(rt)+'_h_min',str(rt)+'_h_max',str(rt)+'_b_min',str(rt)+'_b_max',str(rt)+'_l_min',str(rt)+'_l_max']\n",
    "        rt_2_serve['Date'] = pd.to_datetime(rt_2_serve['Date'], format=\"%Y-%m-%d\")\n",
    "        ## severity 에 추가\n",
    "        severity = pd.merge(severity,rt_2_serve, how='left', left_on='Date', right_on='Date')\n",
    "        cnt += 33\n",
    "        \n",
    "        rt_2_death = final_list.iloc[:,cnt:cnt+33]\n",
    "        rt_2_death = rt_2_death.iloc[:,[5,6,13,20,23,24,27,28,31,32]]\n",
    "        rt_2_death.columns = ['Date', str(rt)+'_h',str(rt)+'_b',str(rt)+'_l',str(rt)+'_h_min',str(rt)+'_h_max',str(rt)+'_b_min',str(rt)+'_b_max',str(rt)+'_l_min',str(rt)+'_l_max']\n",
    "        rt_2_death['Date'] = pd.to_datetime(rt_2_death['Date'], format=\"%Y-%m-%d\")\n",
    "        ## deaths 에 추가\n",
    "        deaths = pd.merge(deaths,rt_2_death, how='left', left_on='Date', right_on='Date')\n",
    "        cnt += 33\n",
    "        \n",
    "    elif rt == Rt[3]:\n",
    "        rt_3_case = final_list.iloc[:,cnt:cnt+33]\n",
    "        rt_3_case = rt_3_case.iloc[:,[5,6,13,20,23,24,27,28,31,32]]\n",
    "        rt_3_case.columns = ['Date', str(rt)+'_h',str(rt)+'_b',str(rt)+'_l',str(rt)+'_h_min',str(rt)+'_h_max',str(rt)+'_b_min',str(rt)+'_b_max',str(rt)+'_l_min',str(rt)+'_l_max']\n",
    "        rt_3_case['Date'] = pd.to_datetime(rt_3_case['Date'], format=\"%Y-%m-%d\")\n",
    "        ## incidence 에 추가\n",
    "        incidence = pd.merge(incidence,rt_3_case, how='left', left_on='Date', right_on='Date')\n",
    "        cnt += 33\n",
    "        \n",
    "        rt_3_serve = final_list.iloc[:,cnt:cnt+33]\n",
    "        rt_3_serve = rt_3_serve.iloc[:,[5,6,13,20,23,24,27,28,31,32]]\n",
    "        rt_3_serve.columns = ['Date', str(rt)+'_h',str(rt)+'_b',str(rt)+'_l',str(rt)+'_h_min',str(rt)+'_h_max',str(rt)+'_b_min',str(rt)+'_b_max',str(rt)+'_l_min',str(rt)+'_l_max']\n",
    "        rt_3_serve['Date'] = pd.to_datetime(rt_3_serve['Date'], format=\"%Y-%m-%d\")\n",
    "        ## severity 에 추가\n",
    "        severity = pd.merge(severity,rt_3_serve, how='left', left_on='Date', right_on='Date')\n",
    "        cnt += 33\n",
    "        \n",
    "        rt_3_death = final_list.iloc[:,cnt:cnt+33]\n",
    "        rt_3_death = rt_3_death.iloc[:,[5,6,13,20,23,24,27,28,31,32]]\n",
    "        rt_3_death.columns = ['Date', str(rt)+'_h',str(rt)+'_b',str(rt)+'_l',str(rt)+'_h_min',str(rt)+'_h_max',str(rt)+'_b_min',str(rt)+'_b_max',str(rt)+'_l_min',str(rt)+'_l_max']\n",
    "        rt_3_death['Date'] = pd.to_datetime(rt_3_death['Date'], format=\"%Y-%m-%d\")\n",
    "        ## deaths 에 추가\n",
    "        deaths = pd.merge(deaths,rt_3_death, how='left', left_on='Date', right_on='Date')\n",
    "        cnt += 33\n",
    "    else:\n",
    "        rt_4_case = final_list.iloc[:,cnt:cnt+33]\n",
    "        rt_4_case = rt_4_case.iloc[:,[5,6,13,20,23,24,27,28,31,32]]\n",
    "        rt_4_case.columns = ['Date', str(rt)+'_h',str(rt)+'_b',str(rt)+'_l',str(rt)+'_h_min',str(rt)+'_h_max',str(rt)+'_b_min',str(rt)+'_b_max',str(rt)+'_l_min',str(rt)+'_l_max']\n",
    "        rt_4_case['Date'] = pd.to_datetime(rt_4_case['Date'], format=\"%Y-%m-%d\")\n",
    "        ## incidence 에 추가\n",
    "        incidence = pd.merge(incidence,rt_4_case, how='left', left_on='Date', right_on='Date')\n",
    "        cnt += 33\n",
    "        \n",
    "        rt_4_serve = final_list.iloc[:,cnt:cnt+33]\n",
    "        rt_4_serve = rt_4_serve.iloc[:,[5,6,13,20,23,24,27,28,31,32]]\n",
    "        rt_4_serve.columns = ['Date', str(rt)+'_h',str(rt)+'_b',str(rt)+'_l',str(rt)+'_h_min',str(rt)+'_h_max',str(rt)+'_b_min',str(rt)+'_b_max',str(rt)+'_l_min',str(rt)+'_l_max']\n",
    "        rt_4_serve['Date'] = pd.to_datetime(rt_4_serve['Date'], format=\"%Y-%m-%d\")\n",
    "        ## severity 에 추가\n",
    "        severity = pd.merge(severity,rt_4_serve, how='left', left_on='Date', right_on='Date')\n",
    "        cnt += 33\n",
    "        \n",
    "        rt_4_death = final_list.iloc[:,cnt:cnt+33]\n",
    "        rt_4_death = rt_4_death.iloc[:,[5,6,13,20,23,24,27,28,31,32]]\n",
    "        rt_4_death.columns = ['Date', str(rt)+'_h',str(rt)+'_b',str(rt)+'_l',str(rt)+'_h_min',str(rt)+'_h_max',str(rt)+'_b_min',str(rt)+'_b_max',str(rt)+'_l_min',str(rt)+'_l_max']\n",
    "        rt_4_death['Date'] = pd.to_datetime(rt_4_death['Date'], format=\"%Y-%m-%d\")\n",
    "        ## deaths 에 추가\n",
    "        deaths = pd.merge(deaths,rt_4_death, how='left', left_on='Date', right_on='Date')\n",
    "        cnt += 33"
   ]
  },
  {
   "cell_type": "code",
   "execution_count": null,
   "id": "f2ebffab",
   "metadata": {},
   "outputs": [],
   "source": [
    "rt_0_case"
   ]
  },
  {
   "cell_type": "code",
   "execution_count": null,
   "id": "ba4aed6f",
   "metadata": {},
   "outputs": [],
   "source": [
    "incidence"
   ]
  },
  {
   "cell_type": "code",
   "execution_count": null,
   "id": "2511d889",
   "metadata": {},
   "outputs": [],
   "source": [
    "severity"
   ]
  },
  {
   "cell_type": "code",
   "execution_count": null,
   "id": "c1f8a8a3",
   "metadata": {},
   "outputs": [],
   "source": [
    "deaths"
   ]
  },
  {
   "cell_type": "markdown",
   "id": "4984ddab",
   "metadata": {},
   "source": [
    "# original plot"
   ]
  },
  {
   "cell_type": "code",
   "execution_count": null,
   "id": "cfd8125f",
   "metadata": {},
   "outputs": [],
   "source": [
    "## original plot\n",
    "\n",
    "def Original_Plot(x,y,rt):\n",
    "    file_name = 'rt '+str(rt)+' - '+x\n",
    "    if x == 'incidence':\n",
    "        ground_truth = data_case\n",
    "        column = 'Confirmed'\n",
    "        plt_start_date = start_date\n",
    "        offset = 0\n",
    "        if rt == Rt[0]:\n",
    "            y_lim = [-100,3500]\n",
    "        if rt == Rt[1]:\n",
    "            y_lim = [-100,12000]\n",
    "        if rt == Rt[2]:\n",
    "            y_lim = [-100,35000]\n",
    "        if rt == Rt[3]:\n",
    "            y_lim = [-100,100000]\n",
    "        if rt == Rt[4]:\n",
    "            y_lim = [-100,250000]\n",
    "        \n",
    "    elif x == 'deaths':\n",
    "        ground_truth = data_case\n",
    "        column = 'Cum_Deaths'\n",
    "        plt_start_date = start_date\n",
    "        offset = aug20_cum_deaths\n",
    "        if rt == Rt[0]:\n",
    "            y_lim = [-100,6800]\n",
    "        if rt == Rt[1]:\n",
    "            y_lim = [-100,21000]\n",
    "        if rt == Rt[2]:\n",
    "            y_lim = [-100,38000]\n",
    "        if rt == Rt[3]:\n",
    "            y_lim = [-100,63000]\n",
    "        if rt == Rt[4]:\n",
    "            y_lim = [-100,93000]\n",
    "\n",
    "    else:\n",
    "        ground_truth = old_severity\n",
    "        column = 'Severity'\n",
    "        plt_start_date = sev_start_date\n",
    "        offset = 0\n",
    "        if rt == Rt[0]:\n",
    "            y_lim = [-100,500]\n",
    "        if rt == Rt[1]:\n",
    "            y_lim = [-100,1500]\n",
    "        if rt == Rt[2]:\n",
    "            y_lim = [-100,5000]\n",
    "        if rt == Rt[3]:\n",
    "            y_lim = [-100,13000]\n",
    "        if rt == Rt[4]:\n",
    "            y_lim = [-100,30000]\n",
    "\n",
    "        \n",
    "\n",
    "\n",
    "    ################스타일#######################################\n",
    "    fig = plt.figure(figsize=(40,15)) ## 캔버스 생성\n",
    "    fig.patch.set_facecolor('#050636') \n",
    "    plt.rcParams['text.color'] = 'w'\n",
    "    plt.rcParams['xtick.color'] = 'w'\n",
    "    plt.rcParams['ytick.color'] = 'w'\n",
    "    plt.rcParams['axes.spines.left'] = True\n",
    "    plt.rcParams['axes.facecolor']='#050636'\n",
    "    plt.grid(color='w', linestyle='-', linewidth=3,alpha = 0.5)\n",
    "    plt.gca().spines['bottom'].set_visible(True) #위 테두리\n",
    "    plt.gca().spines['left'].set_visible(True) #왼쪽 테두리\n",
    "    plt.ylim(y_lim)\n",
    "    #############################################################\n",
    "   \n",
    "\n",
    "    ################ Ground Truth #######################################\n",
    "    plt.plot(ground_truth['tDate'], ground_truth[column],color = '#2dcafd',  linewidth = 6)\n",
    "\n",
    "    ################ npi low Data #######################################\n",
    "    plt.plot(y['Date'], y[str(rt)+'_l']+offset, color ='#f68960', linewidth = 8)\n",
    "    plt.fill_between(y['Date'], y[str(rt)+'_l_min']+offset,y[str(rt)+'_l_max']+offset, color = '#f68960',alpha=0.2)\n",
    "    \n",
    "    \n",
    "    ################ npi Base Data #######################################\n",
    "    plt.plot(y['Date'], y[str(rt)+'_b']+offset, color ='#f56be4', linewidth = 8)\n",
    "    plt.fill_between(y['Date'], y[str(rt)+'_b_min']+offset,y[str(rt)+'_b_max']+offset, color = '#f56be4',alpha=0.2)\n",
    "    \n",
    "    \n",
    "    ################ npi high Data #######################################\n",
    "    plt.plot(y['Date'], y[str(rt)+'_h']+offset, color ='#09d0a2', linewidth = 8)\n",
    "    plt.fill_between(y['Date'], y[str(rt)+'_h_min']+offset,y[str(rt)+'_h_max']+offset, color = '#09d0a2',alpha=0.2)\n",
    "\n",
    "    \n",
    "    \n",
    "    \n",
    "    ################ Legend #######################################\n",
    "    plt.legend(['Ground-Truth','Rt Counter 10%','Rt counter 20%','Rt counter 30%'],fontsize = 30,loc = 'upper left', edgecolor = 'w')\n",
    "\n",
    "\n",
    "    plt.axvline(x = pre_date,linestyle = ':',color='w',linewidth=8, alpha = 0.7)\n",
    "    \n",
    "    plt.title('Rt '+str(rt)+x,fontsize=50)\n",
    "#     plt.suptitle(file_name, y=1, fontsize=30)\n",
    "    plt.xticks([plt_start_date,pre_date,end_date],[str(plt_start_date)[:10],str(pre_date)[:10],str(end_date)[:10]],fontsize=30)\n",
    "    plt.yticks(fontsize = 30)\n",
    "    plt.tight_layout()\n",
    "#     plt.savefig(\"../figures/I/\"+file_name+\".png\",dpi=300)\n",
    "    plt.show()"
   ]
  },
  {
   "cell_type": "code",
   "execution_count": null,
   "id": "341f77af",
   "metadata": {},
   "outputs": [],
   "source": [
    "data_case = data_case[data_case['tDate']<=pre_date]\n",
    "old_severity = old_severity[old_severity['tDate']<=pre_date]"
   ]
  },
  {
   "cell_type": "markdown",
   "id": "0d2bb225",
   "metadata": {},
   "source": [
    "### 확진자"
   ]
  },
  {
   "cell_type": "code",
   "execution_count": null,
   "id": "dcaee660",
   "metadata": {
    "scrolled": true
   },
   "outputs": [],
   "source": [
    "# rt_0_case = rt_0_case[rt_0_case['Date']>=pre_date]\n",
    "# rt_1_case = rt_1_case[rt_1_case['Date']>=pre_date]\n",
    "# rt_2_case = rt_2_case[rt_2_case['Date']>=pre_date]\n",
    "# rt_3_case = rt_3_case[rt_3_case['Date']>=pre_date]\n",
    "# rt_4_case = rt_4_case[rt_4_case['Date']>=pre_date]\n",
    "Original_Plot('incidence',rt_0_case,Rt[0])\n",
    "Original_Plot('incidence',rt_1_case,Rt[1])\n",
    "Original_Plot('incidence',rt_2_case,Rt[2])\n",
    "Original_Plot('incidence',rt_3_case,Rt[3])\n",
    "Original_Plot('incidence',rt_4_case,Rt[4])"
   ]
  },
  {
   "cell_type": "markdown",
   "id": "e7c6ae2c",
   "metadata": {},
   "source": [
    "### 중증자"
   ]
  },
  {
   "cell_type": "code",
   "execution_count": null,
   "id": "8181b725",
   "metadata": {
    "scrolled": true
   },
   "outputs": [],
   "source": [
    "# rt_0_serve = rt_0_serve[rt_0_serve['Date']>=pre_date]\n",
    "# rt_1_serve = rt_1_serve[rt_1_serve['Date']>=pre_date]\n",
    "# rt_2_serve = rt_2_serve[rt_2_serve['Date']>=pre_date]\n",
    "# rt_3_serve = rt_3_serve[rt_3_serve['Date']>=pre_date]\n",
    "# rt_4_serve = rt_4_serve[rt_4_serve['Date']>=pre_date]\n",
    "Original_Plot('severity',rt_0_serve,Rt[0])\n",
    "Original_Plot('severity',rt_1_serve,Rt[1])\n",
    "Original_Plot('severity',rt_2_serve,Rt[2])\n",
    "Original_Plot('severity',rt_3_serve,Rt[3])\n",
    "Original_Plot('severity',rt_4_serve,Rt[4])"
   ]
  },
  {
   "cell_type": "markdown",
   "id": "21f6e661",
   "metadata": {},
   "source": [
    "### 사망자"
   ]
  },
  {
   "cell_type": "code",
   "execution_count": null,
   "id": "402dc238",
   "metadata": {},
   "outputs": [],
   "source": [
    "# rt_0_death = rt_0_death[rt_0_death['Date']>=pre_date]\n",
    "# rt_1_death = rt_1_death[rt_1_death['Date']>=pre_date]\n",
    "# rt_2_death = rt_2_death[rt_2_death['Date']>=pre_date]\n",
    "# rt_3_death = rt_3_death[rt_3_death['Date']>=pre_date]\n",
    "# rt_4_death = rt_4_death[rt_4_death['Date']>=pre_date]\n",
    "Original_Plot('deaths',rt_0_death,Rt[0])\n",
    "Original_Plot('deaths',rt_1_death,Rt[1])\n",
    "Original_Plot('deaths',rt_2_death,Rt[2])\n",
    "Original_Plot('deaths',rt_3_death,Rt[3])\n",
    "Original_Plot('deaths',rt_4_death,Rt[4])"
   ]
  },
  {
   "cell_type": "markdown",
   "id": "7edab0ef",
   "metadata": {},
   "source": [
    "# 모든 Rt plot (new)"
   ]
  },
  {
   "cell_type": "code",
   "execution_count": null,
   "id": "9ed46d62",
   "metadata": {},
   "outputs": [],
   "source": [
    "## Rt plot\n",
    "def Rt_Plot(x,y,value):\n",
    "    ################스타일#######################################\n",
    "    fig = plt.figure(figsize=(40,15)) ## 캔버스 생성\n",
    "    fig.patch.set_facecolor('#050636') \n",
    "    plt.rcParams['text.color'] = 'w'\n",
    "    plt.rcParams['xtick.color'] = 'w'\n",
    "    plt.rcParams['ytick.color'] = 'w'\n",
    "    plt.rcParams['axes.spines.left'] = True\n",
    "    plt.rcParams['axes.facecolor']='#050636'\n",
    "    plt.grid(color='w', linestyle='-', linewidth=3,alpha = 0.5)\n",
    "    plt.gca().spines['bottom'].set_visible(True) #위 테두리\n",
    "    plt.gca().spines['left'].set_visible(True) #왼쪽 테두리\n",
    "#     plt.ylim(y_lim)\n",
    "    #############################################################\n",
    "    \n",
    "    \n",
    "    \n",
    "    v = ''\n",
    "    if value =='Low':\n",
    "        v = 'l'\n",
    "    elif value == 'Base':\n",
    "        v = 'b'\n",
    "    else:\n",
    "        v = 'h'\n",
    "    \n",
    "    if x == 'incidence':\n",
    "        ground_truth = data_case\n",
    "        column = 'Confirmed'\n",
    "        plt_start_date = start_date\n",
    "        offset = 0\n",
    "        folder = 'I'\n",
    "        plt.xticks([plt_start_date,'2020-05-01','2020-08-01','2020-11-01','2021-02-01','2021-05-01',pre_date,'2021-12-01','2022-03-01','2022-06-01','2022-09-01','2022-12-01','2023-03-01',end_date],[str(plt_start_date)[:10],'2020-05','2020-08','2020-11','2021-02','2021-05',str(pre_date)[:10],'2021-12','2022-03','2022-06','2022-09','2022-12','2023-03',str(end_date)[:10]],fontsize=30)\n",
    "\n",
    "        \n",
    "    elif x == 'deaths':\n",
    "        ground_truth = data_case\n",
    "        column = 'Cum_Deaths'\n",
    "        plt_start_date = start_date\n",
    "        offset = aug20_cum_deaths\n",
    "        folder = 'D'\n",
    "        plt.xticks([plt_start_date,'2020-05-01','2020-08-01','2020-11-01','2021-02-01','2021-05-01',pre_date,'2021-12-01','2022-03-01','2022-06-01','2022-09-01','2022-12-01','2023-03-01',end_date],[str(plt_start_date)[:10],'2020-05','2020-08','2020-11','2021-02','2021-05',str(pre_date)[:10],'2021-12','2022-03','2022-06','2022-09','2022-12','2023-03',str(end_date)[:10]],fontsize=30)\n",
    "\n",
    "    else:\n",
    "        ground_truth = old_severity\n",
    "        column = 'Severity'\n",
    "        plt_start_date = sev_start_date\n",
    "        offset = 0\n",
    "        folder = 'S'\n",
    "        plt.xticks([plt_start_date,'2021-02-01','2021-05-01',pre_date,'2021-12-01','2022-03-01','2022-06-01','2022-09-01','2022-12-01','2023-03-01',end_date],[str(plt_start_date)[:10],'2021-02-01','2021-05-01',str(pre_date)[:10],'2021-12','2022-03','2022-06','2022-09','2022-12','2023-03',str(end_date)[:10]],fontsize=30)\n",
    "\n",
    "\n",
    "   \n",
    "    \n",
    "    ################ Ground Truth #######################################\n",
    "    plt.plot(ground_truth['tDate'], ground_truth[column],color = '#2dcafd',  linewidth = 6)\n",
    "   \n",
    "    \n",
    "    ################ Rt[4] Data #######################################\n",
    "    plt.plot(y['Date'], y[str(Rt[4])+'_'+v]+offset, color ='#7d72cf', linewidth = 8)\n",
    "    plt.fill_between(y['Date'], y[str(Rt[4])+'_'+v+'_min']+offset,y[str(Rt[4])+'_'+v+'_max']+offset, color = '#7d72cf',alpha=0.3)\n",
    "\n",
    "    \n",
    "    ################ Rt[3] Data #######################################\n",
    "    plt.plot(y['Date'], y[str(Rt[3])+'_'+v]+offset, color ='#3d77b6', linewidth = 8)\n",
    "    plt.fill_between(y['Date'], y[str(Rt[3])+'_'+v+'_min']+offset,y[str(Rt[3])+'_'+v+'_max']+offset, color = '#3d77b6',alpha=0.3)\n",
    "    \n",
    "    \n",
    "    ################ Rt[2] Data #######################################\n",
    "    plt.plot(y['Date'], y[str(Rt[2])+'_'+v]+offset, color ='#09d0a2', linewidth = 8)\n",
    "    plt.fill_between(y['Date'], y[str(Rt[2])+'_'+v+'_min']+offset,y[str(Rt[2])+'_'+v+'_max']+offset, color = '#09d0a2',alpha=0.3)\n",
    "    \n",
    "    \n",
    "    ################ Rt[1] Data #######################################\n",
    "    plt.plot(y['Date'], y[str(Rt[1])+'_'+v]+offset, color ='#f68960', linewidth = 8)\n",
    "    plt.fill_between(y['Date'], y[str(Rt[1])+'_'+v+'_min']+offset,y[str(Rt[1])+'_'+v+'_max']+offset, color = '#f68960',alpha=0.3)\n",
    "    \n",
    "    \n",
    "    ################ Rt[0] Data #######################################\n",
    "    plt.plot(y['Date'], y[str(Rt[0])+'_'+v]+offset, color ='#f56be4', linewidth = 8)\n",
    "    plt.fill_between(y['Date'], y[str(Rt[0])+'_'+v+'_min']+offset,y[str(Rt[0])+'_'+v+'_max']+offset, color = '#f56be4',alpha=0.3)\n",
    "    \n",
    "    \n",
    "    ################ Legend #######################################\n",
    "    plt.legend(['Ground-Truth','Rt '+str(Rt[4]),'Rt '+str(Rt[3]),'Rt '+str(Rt[2]),'Rt '+str(Rt[1]),'Rt '+str(Rt[0])],fontsize = 30,loc = 'upper left', edgecolor = 'w')\n",
    "\n",
    "\n",
    "    plt.axvline(x = pre_date,linestyle = ':',color='w',linewidth=8, alpha = 0.7)\n",
    "    file_name = file_name_date+\"_None_None_\"+value\n",
    "#     plt.title(file_name,fontsize=50)\n",
    "#     plt.suptitle(file_name, y=1, fontsize=30)\n",
    "#     plt.xticks(fontsize = 30)\n",
    "    plt.yticks(fontsize = 30)\n",
    "    plt.tight_layout()\n",
    "    plt.savefig(save_path+folder+\"/\"+file_name+\".png\",dpi=300)\n",
    "    plt.show()"
   ]
  },
  {
   "cell_type": "markdown",
   "id": "a5fc2b07",
   "metadata": {},
   "source": [
    "### 확진자"
   ]
  },
  {
   "cell_type": "code",
   "execution_count": null,
   "id": "be0e138a",
   "metadata": {
    "scrolled": true
   },
   "outputs": [],
   "source": [
    "Rt_Plot('incidence',incidence,'Low')\n",
    "Rt_Plot('incidence',incidence,'Base')\n",
    "Rt_Plot('incidence',incidence,'High')"
   ]
  },
  {
   "cell_type": "markdown",
   "id": "37a77bd7",
   "metadata": {},
   "source": [
    "### 중증자"
   ]
  },
  {
   "cell_type": "code",
   "execution_count": null,
   "id": "0b62a783",
   "metadata": {
    "scrolled": true
   },
   "outputs": [],
   "source": [
    "Rt_Plot('severity',severity,'Low')\n",
    "Rt_Plot('severity',severity,'Base')\n",
    "Rt_Plot('severity',severity,'High')"
   ]
  },
  {
   "cell_type": "markdown",
   "id": "c0296b6f",
   "metadata": {},
   "source": [
    "### 사망자"
   ]
  },
  {
   "cell_type": "code",
   "execution_count": null,
   "id": "f7d1339c",
   "metadata": {
    "scrolled": true
   },
   "outputs": [],
   "source": [
    "Rt_Plot('deaths',deaths,'Low')\n",
    "Rt_Plot('deaths',deaths,'Base')\n",
    "Rt_Plot('deaths',deaths,'High')"
   ]
  }
 ],
 "metadata": {
  "kernelspec": {
   "display_name": "Python 3",
   "language": "python",
   "name": "python3"
  },
  "language_info": {
   "codemirror_mode": {
    "name": "ipython",
    "version": 3
   },
   "file_extension": ".py",
   "mimetype": "text/x-python",
   "name": "python",
   "nbconvert_exporter": "python",
   "pygments_lexer": "ipython3",
   "version": "3.6.13"
  }
 },
 "nbformat": 4,
 "nbformat_minor": 5
}
