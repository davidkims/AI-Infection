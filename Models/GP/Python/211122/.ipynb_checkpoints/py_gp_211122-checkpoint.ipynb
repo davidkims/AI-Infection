{
 "cells": [
  {
   "cell_type": "code",
   "execution_count": 11,
   "metadata": {
    "colab": {
     "base_uri": "https://localhost:8080/"
    },
    "id": "LkzKDYUc3qzB",
    "outputId": "be13e19e-b2e9-4572-a6c3-e12adef9998f"
   },
   "outputs": [],
   "source": [
    "# # google colab + google drive sync\n",
    "# from google.colab import drive\n",
    "# drive.mount('/content/gdrive/')\n",
    "# !ls\n",
    "# %cd gdrive/MyDrive/Colab Notebooks/G-ABC-Infection/AI-Infection-main\n",
    "\n",
    "# # library install\n",
    "# !pip install gpytorch\n",
    "# # requirements.txt file generation\n",
    "# !pip freeze > requirements.txt"
   ]
  },
  {
   "cell_type": "code",
   "execution_count": 12,
   "metadata": {
    "id": "UoBLdAOCAacC"
   },
   "outputs": [],
   "source": [
    "import pandas as pd\n",
    "import numpy as np\n",
    "import xlrd\n",
    "import math\n",
    "import torch\n",
    "import gpytorch\n",
    "from matplotlib import pyplot as plt\n",
    "import os\n",
    "import random\n",
    "from gpytorch.mlls import SumMarginalLogLikelihood\n",
    "from itertools import repeat"
   ]
  },
  {
   "cell_type": "code",
   "execution_count": 13,
   "metadata": {},
   "outputs": [],
   "source": [
    "## Scenario_1\n",
    "vac = [0, 42000, 63700]\n",
    "npi_w = [4, 8, 12]\n",
    "npi_e = [0.8, 1, 1.2]"
   ]
  },
  {
   "cell_type": "code",
   "execution_count": 14,
   "metadata": {},
   "outputs": [],
   "source": [
    "# ## Scenario_2\n",
    "# vac = [0, 20000, 63700]\n",
    "# npi_w = [4,50,115]\n",
    "# npi_e = [0.5, 1, 2]"
   ]
  },
  {
   "cell_type": "code",
   "execution_count": 19,
   "metadata": {
    "id": "jYup0TOD97yP"
   },
   "outputs": [],
   "source": [
    "''' fix random seed for reproduce '''\n",
    "random_seed = 1000\n",
    "torch.manual_seed(random_seed)\n",
    "torch.cuda.manual_seed(random_seed)\n",
    "torch.cuda.manual_seed_all(random_seed) # if use multi-GPU\n",
    "torch.backends.cudnn.deterministic = True\n",
    "torch.backends.cudnn.benchmark = False\n",
    "np.random.seed(random_seed)\n",
    "random.seed(random_seed)"
   ]
  },
  {
   "cell_type": "markdown",
   "metadata": {
    "id": "jaaYLX2KAdhe"
   },
   "source": [
    "데이터 로드 및 전처리"
   ]
  },
  {
   "cell_type": "code",
   "execution_count": 20,
   "metadata": {
    "id": "zMuRVsrh8EYQ"
   },
   "outputs": [],
   "source": [
    "''' data read '''\n",
    "xls = \"../../../../01_data/국제/수집데이터_211105.xlsx\"\n",
    "path_2 = '../../../../01_data/국내/covid19_Nov2.csv'\n",
    "\n",
    "x_holiday = pd.read_excel(xls,sheet_name='국가별공휴일',engine = \"openpyxl\")\n",
    "x_dist = pd.read_excel(xls,sheet_name='사회적거리두기_Score',engine = \"openpyxl\")\n",
    "x_vaccine = pd.read_excel(xls,sheet_name='백신접종자수',engine = \"openpyxl\")\n",
    "x_weather = pd.read_excel(xls,sheet_name='국가별수도날씨',engine = \"openpyxl\")\n",
    "x_population = pd.read_excel(xls,sheet_name='국가별인구수',engine = \"openpyxl\")\n",
    "x_variant = pd.read_excel(xls,sheet_name='변이바이러스 비율',engine = \"openpyxl\")\n",
    "y_inspection = pd.read_excel(xls,sheet_name='검사자 데이터 통합',engine = \"openpyxl\")\n",
    "y_infection = pd.read_excel(xls,sheet_name='확진자 데이터 통합',engine = \"openpyxl\")\n",
    "y_death = pd.read_excel(xls,sheet_name='사망자 데이터 통합',engine = \"openpyxl\")\n",
    "\n",
    "\n",
    "_data_sev_1= pd.read_excel(xls,engine = \"openpyxl\",sheet_name ='확진자 관리현황',usecols = 'A,H' )\n",
    "_data_sev_2 = pd.read_csv(path_2,usecols=[0,6])"
   ]
  },
  {
   "cell_type": "code",
   "execution_count": 21,
   "metadata": {
    "id": "R9781E_o4-zI"
   },
   "outputs": [],
   "source": [
    "start_date = pd.Timestamp('2020-01-01')\n",
    "observed_end_date = pd.Timestamp('2021-10-07') # \"사망자 데이터 통합\"등에 기록된 최종 일자\n",
    "end_date = pd.Timestamp('2023-12-31')\n",
    "date = pd.date_range(start_date,end_date)\n",
    "country_list = y_inspection.columns.values.tolist()[1:]\n",
    "country_idx_dict = {key:val for val,key in enumerate(country_list)}\n",
    "\n",
    "num_country = len(country_list)\n",
    "td = (end_date - start_date).days + 1 # total date, 2020-01-02 - 2020-01-01 = 1\n",
    "\n",
    "# GP에 넣기 위한 빈공간 생성\n",
    "x = np.zeros((6,num_country,td)) # 6: 날짜 + 위 셀에서 불러온 데이터 x 5개 (국가별인구수는 제외)\n",
    "y = np.zeros((3,num_country,td)) # 3: 검사자, 확진자, 사망자"
   ]
  },
  {
   "cell_type": "code",
   "execution_count": 22,
   "metadata": {},
   "outputs": [
    {
     "name": "stderr",
     "output_type": "stream",
     "text": [
      "/home/sysadm/anaconda3/envs/heytrt3.7/lib/python3.6/site-packages/pandas/core/frame.py:4308: SettingWithCopyWarning: \n",
      "A value is trying to be set on a copy of a slice from a DataFrame\n",
      "\n",
      "See the caveats in the documentation: https://pandas.pydata.org/pandas-docs/stable/user_guide/indexing.html#returning-a-view-versus-a-copy\n",
      "  errors=errors,\n",
      "/home/sysadm/.local/lib/python3.6/site-packages/ipykernel_launcher.py:33: SettingWithCopyWarning: \n",
      "A value is trying to be set on a copy of a slice from a DataFrame\n",
      "\n",
      "See the caveats in the documentation: https://pandas.pydata.org/pandas-docs/stable/user_guide/indexing.html#returning-a-view-versus-a-copy\n",
      "/home/sysadm/.local/lib/python3.6/site-packages/ipykernel_launcher.py:31: SettingWithCopyWarning: \n",
      "A value is trying to be set on a copy of a slice from a DataFrame\n",
      "\n",
      "See the caveats in the documentation: https://pandas.pydata.org/pandas-docs/stable/user_guide/indexing.html#returning-a-view-versus-a-copy\n"
     ]
    }
   ],
   "source": [
    "#이유엔데이터 중증자#\n",
    "data_sev_1 = _data_sev_1\n",
    "sev_start_date = data_sev_1['tDate'][0]                # 시작 날짜(이전의 데이터를 붙이기 위해 필요)\n",
    "sev_end_date = data_sev_1['tDate'][len(data_sev_1)-1]  # 끝 날짜 (이후의 데이터를 붙이기 위해 필요)\n",
    "\n",
    "data_sev_1.rename(columns = {'TodayIllPatient':'Severity'}, inplace = True)\n",
    "data_sev_1_2 = data_sev_1.fillna(0)\n",
    "\n",
    "## 시계열에서 사용한 중증자 초기 데이터 ##2020-01-20~2020-09-14\n",
    "data_sev_2 = _data_sev_2\n",
    "data_sev_2['Date'] = pd.to_datetime(data_sev_2['Date'])\n",
    "old_sev = data_sev_2.loc[data_sev_2['Date']<data_sev_1['tDate'][0]]\n",
    "old_sev.rename(columns = {'Date' : 'tDate'}, inplace = True)\n",
    "old_sev_1 = old_sev.fillna(0)\n",
    "\n",
    "#데이터합치기#\n",
    "data_sev = pd.concat([old_sev_1,data_sev_1_2],ignore_index=True)\n",
    "pre_date2 = pd.Timestamp('2020-01-01')          \n",
    "end_date2 = pd.Timestamp('2021-10-07')\n",
    "train_date2 = pd.date_range(pre_date2,end_date2)    \n",
    "\n",
    "#y_inspection 프레임에 중증자 데이터를 넣기 \n",
    "#y_inspection[y_inspection['tDate'].isin(train_date2)]\n",
    "y_severity  = y_inspection \n",
    "train_date2 = pd.date_range(pre_date2,end_date2)\n",
    "\n",
    "#1월 20일\n",
    "for country,country_idx in country_idx_dict.items():\n",
    "    for i in range(0,len(y_inspection)):\n",
    "        if i in range(19,19+len(data_sev)): #1월 20일부터데이터가 있으니까 \n",
    "            y_severity[country][i] = data_sev['Severity'][i-19]\n",
    "        else:\n",
    "            y_severity[country][i] = 0\n"
   ]
  },
  {
   "cell_type": "code",
   "execution_count": 23,
   "metadata": {
    "id": "MUJ3HrjHZ_6G"
   },
   "outputs": [],
   "source": [
    "# 인구수\n",
    "country_population_dict = {}\n",
    "for row in x_population.iterrows():\n",
    "  country, pro1, pro2, num = row[1]\n",
    "  if type(pro1) == float:\n",
    "    country_population_dict[country] = num\n",
    "country_population_dict['Czechia'] = 10650000\n",
    "country_population_dict['Latvia'] = 1920000\n",
    "country_population_dict['US'] = 328200000"
   ]
  },
  {
   "cell_type": "code",
   "execution_count": 24,
   "metadata": {
    "id": "n-fj2j1DAXjj"
   },
   "outputs": [],
   "source": [
    "# 날짜 \n",
    "# 규칙: 0,1,2,3,4,...\n",
    "for itr in range(td):\n",
    "  x[0,:,itr] = itr "
   ]
  },
  {
   "cell_type": "code",
   "execution_count": 25,
   "metadata": {
    "id": "786O9bGb7pJ3"
   },
   "outputs": [],
   "source": [
    "# x_holiday 전처리\n",
    "# 규칠: 공휴일:1 , 그 외: 0\n",
    "for row in x_holiday.iterrows():\n",
    "  current_date, country, _ = row[1]\n",
    "  idx = (current_date - start_date).days\n",
    "  if (idx >= 0) and (idx < td) and (country in country_idx_dict):\n",
    "    x[1,country_idx_dict[country],idx] = 1"
   ]
  },
  {
   "cell_type": "code",
   "execution_count": 26,
   "metadata": {
    "id": "J5Lxhf1nAyKB"
   },
   "outputs": [],
   "source": [
    "# x_dist 전처리\n",
    "# 규칙: 항목별 score 평균 (province별로 존재할 경우, 이 또한 평균)\n",
    "country_end_dict = {}\n",
    "group_x_dist = x_dist.groupby(['tDate', 'Country']).mean() # province별로 존재할 경우, 평균\n",
    "for row in group_x_dist.iterrows():\n",
    "  current_date, country = row[0]\n",
    "  idx = (current_date - start_date).days\n",
    "  # dist = np.mean(row[1])\n",
    "  dist = row[1][-1] # Stringency_Index\n",
    "  if (idx >= 0) and (idx < td) and (country in country_idx_dict):\n",
    "    if (dist == 0) and (idx>0): # 관측되었지만, 0으로 누락된 경우를 고려하기 위함\n",
    "      x[2,country_idx_dict[country],idx] = x[2,country_idx_dict[country],idx-1]\n",
    "    else:\n",
    "      x[2,country_idx_dict[country],idx] = dist\n",
    "  country_end_dict[country] = idx"
   ]
  },
  {
   "cell_type": "code",
   "execution_count": 27,
   "metadata": {
    "id": "8KoPLI11HtxZ"
   },
   "outputs": [],
   "source": [
    "end_social_distance = pd.Timestamp('2022-03-01')\n",
    "for country,country_end_idx in country_end_dict.items():\n",
    "  if country == 'South Korea':\n",
    "      current_date = pd.DateOffset(country_end_idx) + start_date\n",
    "      social_zero_duration = (end_social_distance - current_date).days # 사회적거리두기 0단계까지 남은 일자\n",
    "      for itr in range(country_end_idx,td):\n",
    "        # 한국의 경우, 2022-03-01 기준 사회적거리두기 0으로 만들기 위한 부분 (선형적으로 사회적거리두기 지수 감소)\n",
    "        x[2,country_idx_dict[country],itr] = np.maximum(0,x[2,country_idx_dict[country],itr] - x[2,country_idx_dict[country],country_end_idx]/social_zero_duration)   \n",
    "  elif country in country_idx_dict:\n",
    "    for itr in range(country_end_idx,td):\n",
    "      x[2,country_idx_dict[country],itr] = x[2,country_idx_dict[country],country_end_idx]"
   ]
  },
  {
   "cell_type": "code",
   "execution_count": 28,
   "metadata": {
    "id": "ObaiNWMvDQRH"
   },
   "outputs": [],
   "source": [
    "# x_vaccine 전처리\n",
    "# 규칙: 2차 백신 접종자수만 기록하되, 누적하여 기록 (0으로 결측일 경우, 그 이전 max 값 그대로 가져오기)\n",
    "# 최신 날짜부터, 2022-12-31까지는 상수로 값 유지\n",
    "country_end_dict = {}\n",
    "for row in x_vaccine.iterrows():\n",
    "  current_date, country, _, num_vaccine = row[1]\n",
    "  idx = (current_date - start_date).days\n",
    "  if (idx >= 0) and (idx < td) and (country in country_idx_dict):\n",
    "    x[3,country_idx_dict[country],idx] = np.maximum(num_vaccine, x[3,country_idx_dict[country],idx-1])\n",
    "  country_end_dict[country] = idx"
   ]
  },
  {
   "cell_type": "code",
   "execution_count": 29,
   "metadata": {
    "id": "WpBVhQYAT0fe"
   },
   "outputs": [],
   "source": [
    "# 각 국가별 최신 날짜부터, 2022-12-31까지는 상수로 값 유지\n",
    "# 대한민국은 주차별 접종시나리오_20210903 반영\n",
    "# 24주차, 25주차, 26주차, ...\n",
    "kor_vac_plan = [7181406.69034811,7760371.55489,8027562.416248,8200681.654084,8267810.41448,8420116.203476,8624010.059872,9930437.378528,12108799.243388,13871861.3329597,16697386.518528,17688097.765664,21569072.884204,24477799.079844,25692137.20726,26699005.88246,27167703.95766,28793468.82286,29289075.42806,29289075.42806,29664724.32806,30040373.22806,30416022.12806,30791671.02806,31167319.92806,31542968.82806,31918617.72806,32294266.62806,32669915.52806]\n",
    "# https://jumin.mois.go.kr/ageStatMonth.do#none\n",
    "# 60세이상 인구: 12882902\n",
    "# 40-59: 16793046\n",
    "# 18-39: 13454265\n",
    "# 0-19: 8537475\n",
    "for country,country_end_idx in country_end_dict.items():\n",
    "    if country == 'South Korea':\n",
    "      for itr in range(country_end_idx,td):\n",
    "        current_date = pd.DateOffset(itr) + start_date\n",
    "        if current_date.year == 2021:\n",
    "          current_weak = int(current_date.strftime(\"%V\"))\n",
    "          x[3,country_idx_dict[country],itr] = kor_vac_plan[np.maximum(0,current_weak-24)]\n",
    "        else:\n",
    "          x[3,country_idx_dict[country],itr] = x[3,country_idx_dict[country],country_end_idx]\n",
    "    elif country in country_idx_dict:\n",
    "      for itr in range(country_end_idx,td):\n",
    "        x[3,country_idx_dict[country],itr] = x[3,country_idx_dict[country],country_end_idx]"
   ]
  },
  {
   "cell_type": "code",
   "execution_count": 30,
   "metadata": {
    "id": "tNfGogOBEOYT"
   },
   "outputs": [],
   "source": [
    "# x_weather 전처리\n",
    "# 규칙: Temp만 기록, city 별로는 평균\n",
    "# 최신날짜부터, 2021-12-31까지는 1년전 값 유지\n",
    "group_x_weather = x_weather.groupby(['tDate', 'Country']).mean() # province별로 존재할 경우, 평균\n",
    "for row in group_x_weather.iterrows():\n",
    "  current_date, country = row[0]\n",
    "  idx = (current_date - start_date).days\n",
    "  temp = row[1][0]\n",
    "  if (idx >= 0) and (idx < td) and (country in country_idx_dict):\n",
    "    x[4,country_idx_dict[country],idx] = temp\n",
    "for itr in range(idx,td):\n",
    "  x[4,:,itr] = x[4,:,itr-365]"
   ]
  },
  {
   "cell_type": "code",
   "execution_count": 31,
   "metadata": {
    "id": "6BXvVmuREx7y"
   },
   "outputs": [],
   "source": [
    "# x_variant 전처리\n",
    "# 규칙: 21A.Delta 기록\n",
    "# 최신 날짜부터, 2021-12-31까지는 상수로 값 유지\n",
    "# 중간 중간 빈 값은, 그 이전 값을 그대로 유지\n",
    "country_end_dict = {}\n",
    "prev_idx = 0\n",
    "for row in x_variant.iterrows():\n",
    "  country, current_date,variant,_,_,proportion = row[1]\n",
    "  if variant == '21A.Delta':\n",
    "    idx = (current_date - start_date).days\n",
    "    if (idx >= 0) and (idx < td) and (country in country_idx_dict):\n",
    "      x[5,country_idx_dict[country],prev_idx+1:idx+1] = proportion\n",
    "    prev_idx = idx\n",
    "    country_end_dict[country] = idx\n",
    "\n",
    "# 각 국가별 최신 날짜부터, 2022-12-31까지는 상수로 값 유지\n",
    "for country,country_end_idx in country_end_dict.items():\n",
    "  if country in country_idx_dict:\n",
    "    for itr in range(country_end_idx,td):\n",
    "      x[5,country_idx_dict[country],itr] = x[5,country_idx_dict[country],country_end_idx]"
   ]
  },
  {
   "cell_type": "code",
   "execution_count": 32,
   "metadata": {
    "id": "fLkN2JL1MdJ3"
   },
   "outputs": [],
   "source": [
    "# y 전처리\n",
    "for country,country_idx in country_idx_dict.items():\n",
    "  country_inspection = y_inspection[country]\n",
    "  country_infection = y_infection[country]\n",
    "  country_death = y_death[country]\n",
    "\n",
    "  y[0,country_idx,:len(country_inspection)] = country_inspection # from 2020-01-01\n",
    "  y[1,country_idx,21:21+len(country_death)] = country_infection # from 2020-01-22\n",
    "  y[2,country_idx,21:21+len(country_death)] = country_death # from 2020-01-22"
   ]
  },
  {
   "cell_type": "code",
   "execution_count": 33,
   "metadata": {
    "id": "ZaD0D2F8ZUUg"
   },
   "outputs": [],
   "source": [
    "# x 최종 전처리 (0~1사이의 범위로 변경)\n",
    "x[0,:,:] = x[0,:,:]/td # 날짜\n",
    "x[1,:,:] = x[1,:,:] # 그대로 0,1\n",
    "x[2,:,:] = x[2,:,:]/100 # 거리두기 score\n",
    "for country,country_idx in country_idx_dict.items():\n",
    "  x[3,country_idx,:] = x[3,country_idx,:]/country_population_dict[country] # vaccine\n",
    "x[4,:,:] = x[4,:,:]/np.max(x[4,:,:]) # weather\n",
    "x[5,:,:] = x[5,:,:] # variant"
   ]
  },
  {
   "cell_type": "code",
   "execution_count": 34,
   "metadata": {
    "colab": {
     "base_uri": "https://localhost:8080/"
    },
    "id": "U-YR9md6cn3z",
    "outputId": "f6d0ba46-c74c-491d-f318-7dbe2e65a6a0"
   },
   "outputs": [],
   "source": [
    "# y 최종 전처리 (0~1사이의 범위로 변경)\n",
    "max_list = []\n",
    "for country,country_idx in country_idx_dict.items():\n",
    "  max_list.append([np.max(y[0,country_idx,:]),np.max(y[1,country_idx,:]),np.max(y[2,country_idx,:])])\n",
    "  y[0,country_idx,:] = y[0,country_idx,:]/np.max(y[0,country_idx,:]) # inspection\n",
    "  y[1,country_idx,:] = y[1,country_idx,:]/np.max(y[1,country_idx,:]) # infection\n",
    "  y[2,country_idx,:] = y[2,country_idx,:]/np.max(y[2,country_idx,:]) # death\n",
    "  # y[0,country_idx,:] = y[0,country_idx,:]/country_population_dict[country] # inspection\n",
    "  # y[1,country_idx,:] = y[1,country_idx,:]/country_population_dict[country] # infection\n",
    "  # y[2,country_idx,:] = y[2,country_idx,:]/country_population_dict[country] # death"
   ]
  },
  {
   "cell_type": "code",
   "execution_count": 35,
   "metadata": {
    "colab": {
     "base_uri": "https://localhost:8080/"
    },
    "id": "hRQJRLh4aDZM",
    "outputId": "bca7fe8c-b01a-4281-cc7e-40fe3284be17"
   },
   "outputs": [
    {
     "name": "stdout",
     "output_type": "stream",
     "text": [
      "(6, 40, 1461) (3, 40, 1461) tensor(1.) tensor(1.)\n"
     ]
    }
   ],
   "source": [
    "# numpy to pytorch tensor\n",
    "torch_x = torch.from_numpy(x).float()\n",
    "torch_y = torch.from_numpy(y).float()\n",
    "print(x.shape,y.shape,torch.max(torch_x),torch.max(torch_y[2,:,:]))"
   ]
  },
  {
   "cell_type": "code",
   "execution_count": 36,
   "metadata": {
    "colab": {
     "base_uri": "https://localhost:8080/"
    },
    "id": "Ly2oC2_NGoy4",
    "outputId": "5df48976-4c0e-40a2-f4c9-5d74644f5e25"
   },
   "outputs": [
    {
     "name": "stdout",
     "output_type": "stream",
     "text": [
      "torch.Size([6, 40, 401]) torch.Size([6, 40, 816]) torch.Size([3, 40, 401]) torch.Size([3, 40, 816])\n"
     ]
    }
   ],
   "source": [
    "# train, test split\n",
    "start_point = (pd.Timestamp('2020-09-01') - start_date).days # we remove data before 2020-09-01, many values are one or zero\n",
    "# start_point = 366 # 2021-01-01 0~29: many values are one or zero\n",
    "end_point = (observed_end_date-start_date).days\n",
    "\n",
    "train_date = date[start_point:end_point]\n",
    "train_x = torch_x[:,:,start_point:end_point]\n",
    "train_y = torch_y[:,:,start_point:end_point]\n",
    "\n",
    "test_date = date[end_point:]\n",
    "test_x = torch_x[:,:,end_point:]\n",
    "test_y = torch_y[:,:,end_point:]\n",
    "\n",
    "print(train_x.shape,test_x.shape,train_y.shape,test_y.shape)"
   ]
  },
  {
   "cell_type": "code",
   "execution_count": 37,
   "metadata": {
    "id": "NbeBx6l6MfGQ"
   },
   "outputs": [],
   "source": [
    "data_dim = train_x.size(0)\n",
    "feature_dim = 10\n",
    "class LargeFeatureExtractor(torch.nn.Sequential):\n",
    "    def __init__(self):\n",
    "        super(LargeFeatureExtractor, self).__init__()\n",
    "        self.add_module('linear1', torch.nn.Linear(data_dim, 64))\n",
    "        self.add_module('relu1', torch.nn.ReLU())\n",
    "        self.add_module('linear2', torch.nn.Linear(64, 32))\n",
    "        self.add_module('relu2', torch.nn.ReLU())\n",
    "        self.add_module('linear3', torch.nn.Linear(32, feature_dim))\n",
    "\n",
    "feature_extractor = LargeFeatureExtractor()"
   ]
  },
  {
   "cell_type": "code",
   "execution_count": 38,
   "metadata": {
    "id": "fQv006sXelN2"
   },
   "outputs": [],
   "source": [
    "# initialize model\n",
    "class ExactGPModel(gpytorch.models.ExactGP):\n",
    "    def __init__(self, train_x, train_y, likelihood):\n",
    "        super(ExactGPModel, self).__init__(train_x, train_y, likelihood)\n",
    "        self.mean_module = gpytorch.means.ConstantMean()\n",
    "        # self.covar_module = gpytorch.kernels.ScaleKernel(gpytorch.kernels.RBFKernel()+gpytorch.kernels.PeriodicKernel() + gpytorch.kernels.LinearKernel())\n",
    "        # self.covar_module = gpytorch.kernels.ScaleKernel(gpytorch.kernels.RBFKernel(ard_num_dims=10)*gpytorch.kernels.PeriodicKernel()+gpytorch.kernels.LinearKernel())\n",
    "        # self.covar_module = gpytorch.kernels.ScaleKernel(gpytorch.kernels.PeriodicKernel()+gpytorch.kernels.LinearKernel())\n",
    "        # self.covar_module = gpytorch.kernels.ScaleKernel(gpytorch.kernels.PeriodicKernel()*gpytorch.kernels.LinearKernel())\n",
    "        # self.covar_module = gpytorch.kernels.ScaleKernel(gpytorch.kernels.LinearKernel()*gpytorch.kernels.LinearKernel())\n",
    "        # self.covar_module = gpytorch.kernels.ScaleKernel(gpytorch.kernels.RBFKernel(ard_num_dims=feature_dim)*gpytorch.kernels.PeriodicKernel()+gpytorch.kernels.LinearKernel())\n",
    "        # self.covar_module = gpytorch.kernels.ScaleKernel(gpytorch.kernels.RBFKernel()*gpytorch.kernels.PeriodicKernel()*gpytorch.kernels.LinearKernel())\n",
    "        # self.covar_module = gpytorch.kernels.ScaleKernel(gpytorch.kernels.RBFKernel()*gpytorch.kernels.PeriodicKernel()*gpytorch.kernels.LinearKernel())\n",
    "        self.covar_module = gpytorch.kernels.ScaleKernel(gpytorch.kernels.RBFKernel(ard_num_dims=feature_dim))\n",
    "        # self.covar_module = gpytorch.kernels.SpectralMixtureKernel(num_mixtures=3,ard_num_dims=feature_dim)\n",
    "        self.scale_to_bounds = gpytorch.utils.grid.ScaleToBounds(-1., 1.)\n",
    "        self.feature_extractor = feature_extractor\n",
    "\n",
    "    def forward(self, x):\n",
    "        projected_x = self.feature_extractor(x)\n",
    "        projected_x = self.scale_to_bounds(projected_x)\n",
    "        mean_x = self.mean_module(projected_x)\n",
    "        covar_x = self.covar_module(projected_x)\n",
    "        return gpytorch.distributions.MultivariateNormal(mean_x, covar_x)"
   ]
  },
  {
   "cell_type": "code",
   "execution_count": 44,
   "metadata": {
    "id": "P7bYEUAuHUxp"
   },
   "outputs": [],
   "source": [
    "# initialize likelihood\n",
    "model_list = []\n",
    "likelihood_list = []\n",
    "num_country = len(country_idx_dict)\n",
    "'''\n",
    "한국, 영국, 미국에 대해서 multi-output gp\n",
    "'''\n",
    "target_country_list = [32,38,39] # South Korea, United Kingdom, UK\n",
    "for mode_itr in [0,1,2]: # 1: infection', 2: death\n",
    "  for itr in range(num_country):\n",
    "    if itr in target_country_list:\n",
    "      likelihood = gpytorch.likelihoods.GaussianLikelihood()\n",
    "      model = ExactGPModel(train_x[:,itr,:].T, train_y[mode_itr,itr,:], likelihood)\n",
    "      model_list.append(model)\n",
    "      likelihood_list.append(model.likelihood)"
   ]
  },
  {
   "cell_type": "code",
   "execution_count": 45,
   "metadata": {
    "id": "jZFAW3nA8Cqc"
   },
   "outputs": [],
   "source": [
    "model = gpytorch.models.IndependentModelList(*model_list)\n",
    "likelihood = gpytorch.likelihoods.LikelihoodList(*likelihood_list)"
   ]
  },
  {
   "cell_type": "code",
   "execution_count": 46,
   "metadata": {
    "id": "Y2XbSagC7OmR"
   },
   "outputs": [],
   "source": [
    "# Use the adam optimizer\n",
    "# 0.01 / 700\n",
    "training_iter = 500\n",
    "lr = 0.01\n",
    "optimizer = torch.optim.Adam(model.parameters(), lr=lr)  # Includes GaussianLikelihood parameters"
   ]
  },
  {
   "cell_type": "code",
   "execution_count": 47,
   "metadata": {
    "colab": {
     "base_uri": "https://localhost:8080/"
    },
    "id": "7IF1rL1Gluoe",
    "outputId": "437e8cd8-cc06-4349-9aaf-38e27ade7612"
   },
   "outputs": [
    {
     "name": "stdout",
     "output_type": "stream",
     "text": [
      "Iter 1/500 - Loss: 0.763\n",
      "Iter 11/500 - Loss: 0.729\n",
      "Iter 21/500 - Loss: 0.690\n",
      "Iter 31/500 - Loss: 0.652\n",
      "Iter 41/500 - Loss: 0.613\n",
      "Iter 51/500 - Loss: 0.573\n",
      "Iter 61/500 - Loss: 0.532\n",
      "Iter 71/500 - Loss: 0.490\n",
      "Iter 81/500 - Loss: 0.449\n",
      "Iter 91/500 - Loss: 0.405\n",
      "Iter 101/500 - Loss: 0.364\n",
      "Iter 111/500 - Loss: 0.317\n",
      "Iter 121/500 - Loss: 0.272\n",
      "Iter 131/500 - Loss: 0.226\n",
      "Iter 141/500 - Loss: 0.185\n",
      "Iter 151/500 - Loss: 0.135\n",
      "Iter 161/500 - Loss: 0.087\n",
      "Iter 171/500 - Loss: 0.040\n",
      "Iter 181/500 - Loss: -0.005\n",
      "Iter 191/500 - Loss: -0.053\n",
      "Iter 201/500 - Loss: -0.099\n",
      "Iter 211/500 - Loss: -0.147\n",
      "Iter 221/500 - Loss: -0.198\n",
      "Iter 231/500 - Loss: -0.243\n",
      "Iter 241/500 - Loss: -0.291\n",
      "Iter 251/500 - Loss: -0.337\n",
      "Iter 261/500 - Loss: -0.385\n",
      "Iter 271/500 - Loss: -0.429\n",
      "Iter 281/500 - Loss: -0.474\n",
      "Iter 291/500 - Loss: -0.515\n",
      "Iter 301/500 - Loss: -0.557\n",
      "Iter 311/500 - Loss: -0.601\n",
      "Iter 321/500 - Loss: -0.645\n",
      "Iter 331/500 - Loss: -0.667\n",
      "Iter 341/500 - Loss: -0.720\n",
      "Iter 351/500 - Loss: -0.759\n",
      "Iter 361/500 - Loss: -0.777\n",
      "Iter 371/500 - Loss: -0.827\n",
      "Iter 381/500 - Loss: -0.865\n",
      "Iter 391/500 - Loss: -0.892\n",
      "Iter 401/500 - Loss: -0.927\n",
      "Iter 411/500 - Loss: -0.968\n",
      "Iter 421/500 - Loss: -0.996\n",
      "Iter 431/500 - Loss: -1.002\n",
      "Iter 441/500 - Loss: -1.038\n",
      "Iter 451/500 - Loss: -1.078\n",
      "Iter 461/500 - Loss: -1.110\n",
      "Iter 471/500 - Loss: -1.136\n",
      "Iter 481/500 - Loss: -1.160\n",
      "Iter 491/500 - Loss: -1.172\n"
     ]
    }
   ],
   "source": [
    "# training\n",
    "model.train()\n",
    "likelihood.train()\n",
    "\n",
    "# \"Loss\" for GPs - the marginal log likelihood\n",
    "mll = SumMarginalLogLikelihood(likelihood, model)\n",
    "for i in range(training_iter):\n",
    "    optimizer.zero_grad()\n",
    "    output = model(*model.train_inputs)\n",
    "    loss = -mll(output, model.train_targets)\n",
    "    loss.backward()\n",
    "    optimizer.step()\n",
    "    if i%10 == 0:\n",
    "      print('Iter %d/%d - Loss: %.3f' % (i + 1, training_iter, loss.item()))"
   ]
  },
  {
   "cell_type": "code",
   "execution_count": 48,
   "metadata": {
    "colab": {
     "base_uri": "https://localhost:8080/"
    },
    "id": "ewa7FwU_VHkT",
    "outputId": "a55625fd-fbf4-4726-c6c4-a5306425e64f"
   },
   "outputs": [
    {
     "name": "stderr",
     "output_type": "stream",
     "text": [
      "/home/sysadm/anaconda3/envs/heytrt3.7/lib/python3.6/site-packages/gpytorch/models/exact_gp.py:275: GPInputWarning: The input matches the stored training data. Did you forget to call model.train()?\n",
      "  GPInputWarning,\n"
     ]
    }
   ],
   "source": [
    "# testing\n",
    "concat_train_x = []\n",
    "concat_test_x = []\n",
    "for mode_itr in [0,1,2]:\n",
    "  for itr in range(num_country):\n",
    "    if itr in target_country_list:\n",
    "      concat_train_x.append(train_x[:,itr,:].T)\n",
    "      concat_test_x.append(test_x[:,itr,:].T)\n",
    "\n",
    "model.eval()\n",
    "likelihood.eval()\n",
    "estimations = likelihood(*model(*concat_train_x))\n",
    "predictions = likelihood(*model(*concat_test_x))"
   ]
  },
  {
   "cell_type": "code",
   "execution_count": 49,
   "metadata": {
    "id": "Yrji4rKhVUcT"
   },
   "outputs": [],
   "source": [
    "def plot_figure(target_country,mode):\n",
    "  target_country_population = country_population_dict[target_country]\n",
    "  if mode == 0:\n",
    "    name = 'Severity'\n",
    "    if target_country == 'South Korea':\n",
    "      data = y_severity\n",
    "      target_country_idx = 0\n",
    "      y_lim = [-300,1000]\n",
    "    elif target_country == 'United Kingdom':\n",
    "      target_country_idx = 1\n",
    "      y_lim = [-1000,80000]\n",
    "    elif target_country == 'US':\n",
    "      target_country_idx = 2\n",
    "      y_lim = [-1000,450000]\n",
    "  elif mode == 1:\n",
    "    name = 'Infection'\n",
    "    if target_country == 'South Korea':\n",
    "      target_country_idx = 3\n",
    "      y_lim = [-1000,6000]\n",
    "    elif target_country == 'United Kingdom':\n",
    "      target_country_idx = 4\n",
    "      y_lim = [-1000,100000]\n",
    "    elif target_country == 'US':\n",
    "      target_country_idx = 5\n",
    "      y_lim = [-1000,450000]\n",
    "  elif mode == 2:\n",
    "    name = 'death'\n",
    "    if target_country == 'South Korea':\n",
    "      target_country_idx = 6\n",
    "      y_lim = [-10,100]\n",
    "    elif target_country == 'United Kingdom':\n",
    "      target_country_idx = 7\n",
    "      y_lim = [-1000,3000]\n",
    "    elif target_country == 'US':\n",
    "      target_country_idx = 8\n",
    "      y_lim = [-1666,5000]\n",
    "\n",
    "  submodel = model.models[target_country_idx]\n",
    "  estimation = estimations[target_country_idx]\n",
    "  prediction = predictions[target_country_idx]\n",
    "  max_value = max_list[country_idx_dict[target_country]][mode]\n",
    "\n",
    "  lower, upper = prediction.confidence_region()\n",
    "  tr_x = submodel.train_inputs[0].detach().numpy()[:,0]\n",
    "  tr_y = submodel.train_targets.detach().numpy()\n",
    "  # Plot training data as black stars\n",
    "  plt.plot(tr_x, tr_y*max_value, 'k*')\n",
    "\n",
    "  # Predictive mean as blue line\n",
    "  plt.plot(train_x[0,country_idx_dict[target_country],:].numpy(), estimation.mean.numpy()*max_value, 'b')\n",
    "  plt.plot(test_x[0,country_idx_dict[target_country],:].numpy(), prediction.mean.numpy()*max_value, 'r')\n",
    "\n",
    "  # Shade in confidence\n",
    "  plt.fill_between(test_x[0,country_idx_dict[target_country],:].numpy(), \n",
    "                    lower.detach().numpy()*max_value, \n",
    "                    upper.detach().numpy()*max_value, alpha=0.5)\n",
    "  plt.ylim(y_lim)\n",
    "  plt.legend(['Observed Data', 'Mean', 'Confidence'])\n",
    "  plt.title('Observed Values (Likelihood)')\n",
    "  plt.legend(['Ground-Truth', 'Estimation', 'Prediction'])\n",
    "  plt.ylabel(name)\n",
    "\n",
    "  new_date = date[start_point:].to_numpy()\n",
    "  y_loc = y_lim[0]*1.5\n",
    "\n",
    "  plt.xticks([0.155,0.44,1.0], [str(new_date[int(len(new_date)*0.0)])[:10],\n",
    "                                  str(new_date[end_point-start_point])[:10],\n",
    "                                  str(end_date)[:10]],rotation=45,fontsize=10)\n",
    "\n",
    "  plt.tight_layout()\n",
    "#   plt.savefig(\"results/\"+str(target_country)+'_'+str(name),dpi=300)\n",
    "  plt.show()"
   ]
  },
  {
   "cell_type": "code",
   "execution_count": 50,
   "metadata": {
    "colab": {
     "base_uri": "https://localhost:8080/",
     "height": 1000
    },
    "id": "Bqh1N6Bssy84",
    "outputId": "054adc07-3ea1-4d99-f533-a63ffdba1e9d"
   },
   "outputs": [
    {
     "data": {
      "image/png": "[encoded data removed]",
      "text/plain": [
       "<Figure size 432x288 with 1 Axes>"
      ]
     },
     "metadata": {
      "needs_background": "light"
     },
     "output_type": "display_data"
    },
    {
     "data": {
      "image/png": "[encoded data removed]",
      "text/plain": [
       "<Figure size 432x288 with 1 Axes>"
      ]
     },
     "metadata": {
      "needs_background": "light"
     },
     "output_type": "display_data"
    },
    {
     "data": {
      "image/png": "[encoded data removed]",
      "text/plain": [
       "<Figure size 432x288 with 1 Axes>"
      ]
     },
     "metadata": {
      "needs_background": "light"
     },
     "output_type": "display_data"
    }
   ],
   "source": [
    "# visualization\n",
    "with torch.no_grad(), gpytorch.settings.fast_pred_var():\n",
    "  target_country_list = ['South Korea']\n",
    "  mode_list = [0,1,2] # 1: infection', 2: death\n",
    "\n",
    "  for target_country in target_country_list:\n",
    "    for mode in mode_list: \n",
    "      plot_figure(target_country,mode)"
   ]
  },
  {
   "cell_type": "code",
   "execution_count": null,
   "metadata": {
    "id": "q5M7Hb4lPqkd"
   },
   "outputs": [],
   "source": []
  }
 ],
 "metadata": {
  "accelerator": "GPU",
  "colab": {
   "collapsed_sections": [],
   "machine_shape": "hm",
   "name": "main.ipynb",
   "provenance": []
  },
  "kernelspec": {
   "display_name": "Python 3",
   "language": "python",
   "name": "python3"
  },
  "language_info": {
   "codemirror_mode": {
    "name": "ipython",
    "version": 3
   },
   "file_extension": ".py",
   "mimetype": "text/x-python",
   "name": "python",
   "nbconvert_exporter": "python",
   "pygments_lexer": "ipython3",
   "version": "3.6.13"
  }
 },
 "nbformat": 4,
 "nbformat_minor": 1
}
