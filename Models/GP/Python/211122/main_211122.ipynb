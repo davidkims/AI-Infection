{
 "cells": [
  {
   "cell_type": "code",
   "execution_count": 30,
   "metadata": {
    "colab": {
     "base_uri": "https://localhost:8080/"
    },
    "id": "LkzKDYUc3qzB",
    "outputId": "be13e19e-b2e9-4572-a6c3-e12adef9998f"
   },
   "outputs": [],
   "source": [
    "# # google colab + google drive sync\n",
    "# from google.colab import drive\n",
    "# drive.mount('/content/gdrive/')\n",
    "# !ls\n",
    "# %cd gdrive/MyDrive/Colab Notebooks/G-ABC-Infection/AI-Infection-main\n",
    "\n",
    "# # library install\n",
    "# !pip install gpytorch\n",
    "# # requirements.txt file generation\n",
    "# !pip freeze > requirements.txt"
   ]
  },
  {
   "cell_type": "code",
   "execution_count": 31,
   "metadata": {
    "id": "UoBLdAOCAacC"
   },
   "outputs": [],
   "source": [
    "import pandas as pd\n",
    "import numpy as np\n",
    "import xlrd\n",
    "import math\n",
    "import torch\n",
    "import gpytorch\n",
    "from matplotlib import pyplot as plt\n",
    "import os\n",
    "import random\n",
    "from gpytorch.mlls import SumMarginalLogLikelihood\n",
    "from itertools import repeat"
   ]
  },
  {
   "cell_type": "code",
   "execution_count": 32,
   "metadata": {
    "id": "jYup0TOD97yP"
   },
   "outputs": [],
   "source": [
    "''' fix random seed for reproduce '''\n",
    "random_seed = 1000\n",
    "torch.manual_seed(random_seed)\n",
    "torch.cuda.manual_seed(random_seed)\n",
    "torch.cuda.manual_seed_all(random_seed) # if use multi-GPU\n",
    "torch.backends.cudnn.deterministic = True\n",
    "torch.backends.cudnn.benchmark = False\n",
    "np.random.seed(random_seed)\n",
    "random.seed(random_seed)"
   ]
  },
  {
   "cell_type": "markdown",
   "metadata": {
    "id": "jaaYLX2KAdhe"
   },
   "source": [
    "데이터 로드 및 전처리"
   ]
  },
  {
   "cell_type": "code",
   "execution_count": 33,
   "metadata": {
    "id": "zMuRVsrh8EYQ"
   },
   "outputs": [],
   "source": [
    "''' data read '''\n",
    "# xls = pd.ExcelFile('data/수집데이터_211013.xlsx')\n",
    "# xls = \"../../../../11_data/국제/수집데이터_211105.xlsx\"\n",
    "xls = \"../../../../11_data/국제/수집데이터_220227.xlsx\"\n",
    "x_holiday = pd.read_excel(xls,sheet_name='국가별공휴일',engine = \"openpyxl\")\n",
    "x_dist = pd.read_excel(xls,sheet_name='사회적거리두기_Score',engine = \"openpyxl\")\n",
    "x_vaccine = pd.read_excel(xls,sheet_name='백신접종자수',engine = \"openpyxl\")\n",
    "x_weather = pd.read_excel(xls,sheet_name='국가별수도날씨',engine = \"openpyxl\")\n",
    "x_population = pd.read_excel(xls,sheet_name='국가별인구수',engine = \"openpyxl\")\n",
    "x_variant = pd.read_excel(xls,sheet_name='변이바이러스 비율',engine = \"openpyxl\")\n",
    "y_inspection = pd.read_excel(xls,sheet_name='검사자 데이터 통합',engine = \"openpyxl\")\n",
    "y_infection = pd.read_excel(xls,sheet_name='확진자 데이터 통합',engine = \"openpyxl\")\n",
    "y_death = pd.read_excel(xls,sheet_name='사망자 데이터 통합',engine = \"openpyxl\")"
   ]
  },
  {
   "cell_type": "code",
   "execution_count": 34,
   "metadata": {
    "id": "R9781E_o4-zI"
   },
   "outputs": [],
   "source": [
    "start_date = pd.Timestamp('2020-01-01')\n",
    "# observed_end_date = pd.Timestamp('2021-10-07') # \"사망자 데이터 통합\"등에 기록된 최종 일자\n",
    "observed_end_date = pd.Timestamp('2021-10-07') # \"사망자 데이터 통합\"등에 기록된 최종 일자\n",
    "\n",
    "end_date = pd.Timestamp('2023-12-31')\n",
    "date = pd.date_range(start_date,end_date)\n",
    "country_list = y_inspection.columns.values.tolist()[1:]\n",
    "country_idx_dict = {key:val for val,key in enumerate(country_list)}\n",
    "\n",
    "num_country = len(country_list)\n",
    "td = (end_date - start_date).days + 1 # total date, 2020-01-02 - 2020-01-01 = 1\n",
    "\n",
    "# GP에 넣기 위한 빈공간 생성\n",
    "x = np.zeros((6,num_country,td)) # 6: 날짜 + 위 셀에서 불러온 데이터 x 5개 (국가별인구수는 제외)\n",
    "y = np.zeros((3,num_country,td)) # 3: 검사자, 확진자, 사망자"
   ]
  },
  {
   "cell_type": "code",
   "execution_count": 35,
   "metadata": {
    "id": "MUJ3HrjHZ_6G"
   },
   "outputs": [],
   "source": [
    "# 인구수\n",
    "country_population_dict = {}\n",
    "for row in x_population.iterrows():\n",
    "  country, pro1, pro2, num = row[1]\n",
    "  if type(pro1) == float:\n",
    "    country_population_dict[country] = num\n",
    "country_population_dict['Czechia'] = 10650000\n",
    "country_population_dict['Latvia'] = 1920000\n",
    "country_population_dict['US'] = 328200000"
   ]
  },
  {
   "cell_type": "code",
   "execution_count": 36,
   "metadata": {
    "id": "n-fj2j1DAXjj"
   },
   "outputs": [],
   "source": [
    "# 날짜 \n",
    "# 규칙: 0,1,2,3,4,...\n",
    "for itr in range(td):\n",
    "  x[0,:,itr] = itr "
   ]
  },
  {
   "cell_type": "code",
   "execution_count": 37,
   "metadata": {
    "id": "786O9bGb7pJ3"
   },
   "outputs": [],
   "source": [
    "# x_holiday 전처리\n",
    "# 규칠: 공휴일:1 , 그 외: 0\n",
    "for row in x_holiday.iterrows():\n",
    "  current_date, country, _ = row[1]\n",
    "  idx = (current_date - start_date).days\n",
    "  if (idx >= 0) and (idx < td) and (country in country_idx_dict):\n",
    "    x[1,country_idx_dict[country],idx] = 1"
   ]
  },
  {
   "cell_type": "code",
   "execution_count": 38,
   "metadata": {
    "id": "J5Lxhf1nAyKB"
   },
   "outputs": [],
   "source": [
    "# x_dist 전처리\n",
    "# 규칙: 항목별 score 평균 (province별로 존재할 경우, 이 또한 평균)\n",
    "country_end_dict = {}\n",
    "group_x_dist = x_dist.groupby(['tDate', 'Country']).mean() # province별로 존재할 경우, 평균\n",
    "for row in group_x_dist.iterrows():\n",
    "  current_date, country = row[0]\n",
    "  idx = (current_date - start_date).days\n",
    "  # dist = np.mean(row[1])\n",
    "  dist = row[1][-1] # Stringency_Index\n",
    "  if (idx >= 0) and (idx < td) and (country in country_idx_dict):\n",
    "    if (dist == 0) and (idx>0): # 관측되었지만, 0으로 누락된 경우를 고려하기 위함\n",
    "      x[2,country_idx_dict[country],idx] = x[2,country_idx_dict[country],idx-1]\n",
    "    else:\n",
    "      x[2,country_idx_dict[country],idx] = dist\n",
    "  country_end_dict[country] = idx"
   ]
  },
  {
   "cell_type": "code",
   "execution_count": 39,
   "metadata": {
    "id": "8KoPLI11HtxZ"
   },
   "outputs": [],
   "source": [
    "end_social_distance = pd.Timestamp('2022-03-01')\n",
    "for country,country_end_idx in country_end_dict.items():\n",
    "  if country == 'South Korea':\n",
    "      current_date = pd.DateOffset(country_end_idx) + start_date\n",
    "      social_zero_duration = (end_social_distance - current_date).days # 사회적거리두기 0단계까지 남은 일자\n",
    "      for itr in range(country_end_idx,td):\n",
    "        # 한국의 경우, 2022-03-01 기준 사회적거리두기 0으로 만들기 위한 부분 (선형적으로 사회적거리두기 지수 감소)\n",
    "        x[2,country_idx_dict[country],itr] = np.maximum(0,x[2,country_idx_dict[country],itr] - x[2,country_idx_dict[country],country_end_idx]/social_zero_duration)   \n",
    "  elif country in country_idx_dict:\n",
    "    for itr in range(country_end_idx,td):\n",
    "      x[2,country_idx_dict[country],itr] = x[2,country_idx_dict[country],country_end_idx]"
   ]
  },
  {
   "cell_type": "code",
   "execution_count": 40,
   "metadata": {
    "id": "ObaiNWMvDQRH"
   },
   "outputs": [],
   "source": [
    "# x_vaccine 전처리\n",
    "# 규칙: 2차 백신 접종자수만 기록하되, 누적하여 기록 (0으로 결측일 경우, 그 이전 max 값 그대로 가져오기)\n",
    "# 최신 날짜부터, 2022-12-31까지는 상수로 값 유지\n",
    "country_end_dict = {}\n",
    "for row in x_vaccine.iterrows():\n",
    "  current_date, country, _, num_vaccine = row[1]\n",
    "  idx = (current_date - start_date).days\n",
    "  if (idx >= 0) and (idx < td) and (country in country_idx_dict):\n",
    "    x[3,country_idx_dict[country],idx] = np.maximum(num_vaccine, x[3,country_idx_dict[country],idx-1])\n",
    "  country_end_dict[country] = idx"
   ]
  },
  {
   "cell_type": "code",
   "execution_count": 41,
   "metadata": {
    "id": "WpBVhQYAT0fe"
   },
   "outputs": [],
   "source": [
    "# 각 국가별 최신 날짜부터, 2022-12-31까지는 상수로 값 유지\n",
    "# 대한민국은 주차별 접종시나리오_20210903 반영\n",
    "# 24주차, 25주차, 26주차, ...\n",
    "kor_vac_plan = [7181406.69034811,7760371.55489,8027562.416248,8200681.654084,8267810.41448,8420116.203476,8624010.059872,9930437.378528,12108799.243388,13871861.3329597,16697386.518528,17688097.765664,21569072.884204,24477799.079844,25692137.20726,26699005.88246,27167703.95766,28793468.82286,29289075.42806,29289075.42806,29664724.32806,30040373.22806,30416022.12806,30791671.02806,31167319.92806,31542968.82806,31918617.72806,32294266.62806,32669915.52806]\n",
    "# https://jumin.mois.go.kr/ageStatMonth.do#none\n",
    "# 60세이상 인구: 12882902\n",
    "# 40-59: 16793046\n",
    "# 18-39: 13454265\n",
    "# 0-19: 8537475\n",
    "for country,country_end_idx in country_end_dict.items():\n",
    "    if country == 'South Korea':\n",
    "      for itr in range(country_end_idx,td):\n",
    "        current_date = pd.DateOffset(itr) + start_date\n",
    "        if current_date.year == 2021:\n",
    "          current_weak = int(current_date.strftime(\"%V\"))\n",
    "          x[3,country_idx_dict[country],itr] = kor_vac_plan[np.maximum(0,current_weak-24)]\n",
    "        else:\n",
    "          x[3,country_idx_dict[country],itr] = x[3,country_idx_dict[country],country_end_idx]\n",
    "    elif country in country_idx_dict:\n",
    "      for itr in range(country_end_idx,td):\n",
    "        x[3,country_idx_dict[country],itr] = x[3,country_idx_dict[country],country_end_idx]"
   ]
  },
  {
   "cell_type": "code",
   "execution_count": 42,
   "metadata": {
    "id": "tNfGogOBEOYT"
   },
   "outputs": [],
   "source": [
    "# x_weather 전처리\n",
    "# 규칙: Temp만 기록, city 별로는 평균\n",
    "# 최신날짜부터, 2021-12-31까지는 1년전 값 유지\n",
    "group_x_weather = x_weather.groupby(['tDate', 'Country']).mean() # province별로 존재할 경우, 평균\n",
    "for row in group_x_weather.iterrows():\n",
    "  current_date, country = row[0]\n",
    "  idx = (current_date - start_date).days\n",
    "  temp = row[1][0]\n",
    "  if (idx >= 0) and (idx < td) and (country in country_idx_dict):\n",
    "    x[4,country_idx_dict[country],idx] = temp\n",
    "for itr in range(idx,td):\n",
    "  x[4,:,itr] = x[4,:,itr-365]"
   ]
  },
  {
   "cell_type": "code",
   "execution_count": 43,
   "metadata": {
    "id": "6BXvVmuREx7y"
   },
   "outputs": [],
   "source": [
    "# x_variant 전처리\n",
    "# 규칙: 21A.Delta 기록\n",
    "# 최신 날짜부터, 2021-12-31까지는 상수로 값 유지\n",
    "# 중간 중간 빈 값은, 그 이전 값을 그대로 유지\n",
    "country_end_dict = {}\n",
    "prev_idx = 0\n",
    "for row in x_variant.iterrows():\n",
    "  country, current_date,variant,_,_,proportion = row[1]\n",
    "  if variant == '21A.Delta':\n",
    "    idx = (current_date - start_date).days\n",
    "    if (idx >= 0) and (idx < td) and (country in country_idx_dict):\n",
    "      x[5,country_idx_dict[country],prev_idx+1:idx+1] = proportion\n",
    "    prev_idx = idx\n",
    "    country_end_dict[country] = idx\n",
    "\n",
    "# 각 국가별 최신 날짜부터, 2022-12-31까지는 상수로 값 유지\n",
    "for country,country_end_idx in country_end_dict.items():\n",
    "  if country in country_idx_dict:\n",
    "    for itr in range(country_end_idx,td):\n",
    "      x[5,country_idx_dict[country],itr] = x[5,country_idx_dict[country],country_end_idx]"
   ]
  },
  {
   "cell_type": "code",
   "execution_count": 44,
   "metadata": {
    "id": "fLkN2JL1MdJ3"
   },
   "outputs": [],
   "source": [
    "# y 전처리\n",
    "for country,country_idx in country_idx_dict.items():\n",
    "  country_inspection = y_inspection[country]\n",
    "  country_infection = y_infection[country]\n",
    "  country_death = y_death[country]\n",
    "\n",
    "  y[0,country_idx,:len(country_inspection)] = country_inspection # from 2020-01-01\n",
    "  y[1,country_idx,21:21+len(country_death)] = country_infection # from 2020-01-22\n",
    "  y[2,country_idx,21:21+len(country_death)] = country_death # from 2020-01-22"
   ]
  },
  {
   "cell_type": "code",
   "execution_count": 45,
   "metadata": {
    "id": "ZaD0D2F8ZUUg"
   },
   "outputs": [],
   "source": [
    "# x 최종 전처리 (0~1사이의 범위로 변경)\n",
    "x[0,:,:] = x[0,:,:]/td # 날짜\n",
    "x[1,:,:] = x[1,:,:] # 그대로 0,1\n",
    "x[2,:,:] = x[2,:,:]/100 # 거리두기 score\n",
    "for country,country_idx in country_idx_dict.items():\n",
    "  x[3,country_idx,:] = x[3,country_idx,:]/country_population_dict[country] # vaccine\n",
    "x[4,:,:] = x[4,:,:]/np.max(x[4,:,:]) # weather\n",
    "x[5,:,:] = x[5,:,:] # variant"
   ]
  },
  {
   "cell_type": "code",
   "execution_count": 46,
   "metadata": {
    "colab": {
     "base_uri": "https://localhost:8080/"
    },
    "id": "U-YR9md6cn3z",
    "outputId": "f6d0ba46-c74c-491d-f318-7dbe2e65a6a0"
   },
   "outputs": [
    {
     "name": "stderr",
     "output_type": "stream",
     "text": [
      "/home/sysadm/.local/lib/python3.6/site-packages/ipykernel_launcher.py:5: RuntimeWarning: divide by zero encountered in true_divide\n",
      "  \"\"\"\n",
      "/home/sysadm/.local/lib/python3.6/site-packages/ipykernel_launcher.py:5: RuntimeWarning: invalid value encountered in true_divide\n",
      "  \"\"\"\n"
     ]
    }
   ],
   "source": [
    "# y 최종 전처리 (0~1사이의 범위로 변경)\n",
    "max_list = []\n",
    "for country,country_idx in country_idx_dict.items():\n",
    "  max_list.append([np.max(y[0,country_idx,:]),np.max(y[1,country_idx,:]),np.max(y[2,country_idx,:])])\n",
    "  y[0,country_idx,:] = y[0,country_idx,:]/np.max(y[0,country_idx,:]) # inspection\n",
    "  y[1,country_idx,:] = y[1,country_idx,:]/np.max(y[1,country_idx,:]) # infection\n",
    "  y[2,country_idx,:] = y[2,country_idx,:]/np.max(y[2,country_idx,:]) # death\n",
    "  # y[0,country_idx,:] = y[0,country_idx,:]/country_population_dict[country] # inspection\n",
    "  # y[1,country_idx,:] = y[1,country_idx,:]/country_population_dict[country] # infection\n",
    "  # y[2,country_idx,:] = y[2,country_idx,:]/country_population_dict[country] # death"
   ]
  },
  {
   "cell_type": "code",
   "execution_count": 47,
   "metadata": {
    "colab": {
     "base_uri": "https://localhost:8080/"
    },
    "id": "hRQJRLh4aDZM",
    "outputId": "bca7fe8c-b01a-4281-cc7e-40fe3284be17"
   },
   "outputs": [
    {
     "name": "stdout",
     "output_type": "stream",
     "text": [
      "(6, 40, 1461) (3, 40, 1461) tensor(nan) tensor(1.)\n"
     ]
    }
   ],
   "source": [
    "# numpy to pytorch tensor\n",
    "torch_x = torch.from_numpy(x).float()\n",
    "torch_y = torch.from_numpy(y).float()\n",
    "print(x.shape,y.shape,torch.max(torch_x),torch.max(torch_y[2,:,:]))"
   ]
  },
  {
   "cell_type": "code",
   "execution_count": 48,
   "metadata": {
    "colab": {
     "base_uri": "https://localhost:8080/"
    },
    "id": "Ly2oC2_NGoy4",
    "outputId": "5df48976-4c0e-40a2-f4c9-5d74644f5e25"
   },
   "outputs": [
    {
     "name": "stdout",
     "output_type": "stream",
     "text": [
      "torch.Size([6, 40, 401]) torch.Size([6, 40, 816]) torch.Size([3, 40, 401]) torch.Size([3, 40, 816])\n"
     ]
    }
   ],
   "source": [
    "# train, test split\n",
    "start_point = (pd.Timestamp('2020-09-01') - start_date).days # we remove data before 2020-09-01, many values are one or zero\n",
    "# start_point = 366 # 2021-01-01 0~29: many values are one or zero\n",
    "end_point = (observed_end_date-start_date).days\n",
    "\n",
    "train_date = date[start_point:end_point]\n",
    "train_x = torch_x[:,:,start_point:end_point]\n",
    "train_y = torch_y[:,:,start_point:end_point]\n",
    "\n",
    "test_date = date[end_point:]\n",
    "test_x = torch_x[:,:,end_point:]\n",
    "test_y = torch_y[:,:,end_point:]\n",
    "\n",
    "print(train_x.shape,test_x.shape,train_y.shape,test_y.shape)"
   ]
  },
  {
   "cell_type": "code",
   "execution_count": 49,
   "metadata": {
    "id": "NbeBx6l6MfGQ"
   },
   "outputs": [],
   "source": [
    "data_dim = train_x.size(0)\n",
    "feature_dim = 10\n",
    "class LargeFeatureExtractor(torch.nn.Sequential):\n",
    "    def __init__(self):\n",
    "        super(LargeFeatureExtractor, self).__init__()\n",
    "        self.add_module('linear1', torch.nn.Linear(data_dim, 64))\n",
    "        self.add_module('relu1', torch.nn.ReLU())\n",
    "        self.add_module('linear2', torch.nn.Linear(64, 32))\n",
    "        self.add_module('relu2', torch.nn.ReLU())\n",
    "        self.add_module('linear3', torch.nn.Linear(32, feature_dim))\n",
    "\n",
    "feature_extractor = LargeFeatureExtractor()"
   ]
  },
  {
   "cell_type": "code",
   "execution_count": 50,
   "metadata": {
    "id": "fQv006sXelN2"
   },
   "outputs": [],
   "source": [
    "# initialize model\n",
    "class ExactGPModel(gpytorch.models.ExactGP):\n",
    "    def __init__(self, train_x, train_y, likelihood):\n",
    "        super(ExactGPModel, self).__init__(train_x, train_y, likelihood)\n",
    "        self.mean_module = gpytorch.means.ConstantMean()\n",
    "        # self.covar_module = gpytorch.kernels.ScaleKernel(gpytorch.kernels.RBFKernel()+gpytorch.kernels.PeriodicKernel() + gpytorch.kernels.LinearKernel())\n",
    "        # self.covar_module = gpytorch.kernels.ScaleKernel(gpytorch.kernels.RBFKernel(ard_num_dims=10)*gpytorch.kernels.PeriodicKernel()+gpytorch.kernels.LinearKernel())\n",
    "        # self.covar_module = gpytorch.kernels.ScaleKernel(gpytorch.kernels.PeriodicKernel()+gpytorch.kernels.LinearKernel())\n",
    "        # self.covar_module = gpytorch.kernels.ScaleKernel(gpytorch.kernels.PeriodicKernel()*gpytorch.kernels.LinearKernel())\n",
    "        # self.covar_module = gpytorch.kernels.ScaleKernel(gpytorch.kernels.LinearKernel()*gpytorch.kernels.LinearKernel())\n",
    "        # self.covar_module = gpytorch.kernels.ScaleKernel(gpytorch.kernels.RBFKernel(ard_num_dims=feature_dim)*gpytorch.kernels.PeriodicKernel()+gpytorch.kernels.LinearKernel())\n",
    "        # self.covar_module = gpytorch.kernels.ScaleKernel(gpytorch.kernels.RBFKernel()*gpytorch.kernels.PeriodicKernel()*gpytorch.kernels.LinearKernel())\n",
    "        # self.covar_module = gpytorch.kernels.ScaleKernel(gpytorch.kernels.RBFKernel()*gpytorch.kernels.PeriodicKernel()*gpytorch.kernels.LinearKernel())\n",
    "        self.covar_module = gpytorch.kernels.ScaleKernel(gpytorch.kernels.RBFKernel(ard_num_dims=feature_dim))\n",
    "        # self.covar_module = gpytorch.kernels.SpectralMixtureKernel(num_mixtures=3,ard_num_dims=feature_dim)\n",
    "        self.scale_to_bounds = gpytorch.utils.grid.ScaleToBounds(-1., 1.)\n",
    "        self.feature_extractor = feature_extractor\n",
    "\n",
    "    def forward(self, x):\n",
    "        projected_x = self.feature_extractor(x)\n",
    "        projected_x = self.scale_to_bounds(projected_x)\n",
    "        mean_x = self.mean_module(projected_x)\n",
    "        covar_x = self.covar_module(projected_x)\n",
    "        return gpytorch.distributions.MultivariateNormal(mean_x, covar_x)"
   ]
  },
  {
   "cell_type": "code",
   "execution_count": 51,
   "metadata": {
    "id": "P7bYEUAuHUxp"
   },
   "outputs": [],
   "source": [
    "# initialize likelihood\n",
    "model_list = []\n",
    "likelihood_list = []\n",
    "num_country = len(country_idx_dict)\n",
    "'''\n",
    "한국, 영국, 미국에 대해서 multi-output gp\n",
    "'''\n",
    "target_country_list = [32,38,39] # South Korea, United Kingdom, UK\n",
    "for mode_itr in [1,2]: # 1: infection', 2: death\n",
    "  for itr in range(num_country):\n",
    "    if itr in target_country_list:\n",
    "      likelihood = gpytorch.likelihoods.GaussianLikelihood()\n",
    "      model = ExactGPModel(train_x[:,itr,:].T, train_y[mode_itr,itr,:], likelihood)\n",
    "      model_list.append(model)\n",
    "      likelihood_list.append(model.likelihood)"
   ]
  },
  {
   "cell_type": "code",
   "execution_count": 52,
   "metadata": {
    "id": "jZFAW3nA8Cqc"
   },
   "outputs": [],
   "source": [
    "model = gpytorch.models.IndependentModelList(*model_list)\n",
    "likelihood = gpytorch.likelihoods.LikelihoodList(*likelihood_list)"
   ]
  },
  {
   "cell_type": "code",
   "execution_count": 53,
   "metadata": {
    "id": "Y2XbSagC7OmR"
   },
   "outputs": [],
   "source": [
    "# Use the adam optimizer\n",
    "# 0.01 / 700\n",
    "training_iter = 500\n",
    "lr = 0.01\n",
    "optimizer = torch.optim.Adam(model.parameters(), lr=lr)  # Includes GaussianLikelihood parameters"
   ]
  },
  {
   "cell_type": "code",
   "execution_count": 54,
   "metadata": {
    "colab": {
     "base_uri": "https://localhost:8080/"
    },
    "id": "7IF1rL1Gluoe",
    "outputId": "437e8cd8-cc06-4349-9aaf-38e27ade7612"
   },
   "outputs": [
    {
     "name": "stdout",
     "output_type": "stream",
     "text": [
      "Iter 1/500 - Loss: 0.755\n",
      "Iter 11/500 - Loss: 0.713\n",
      "Iter 21/500 - Loss: 0.675\n",
      "Iter 31/500 - Loss: 0.637\n",
      "Iter 41/500 - Loss: 0.598\n",
      "Iter 51/500 - Loss: 0.557\n",
      "Iter 61/500 - Loss: 0.516\n",
      "Iter 71/500 - Loss: 0.474\n",
      "Iter 81/500 - Loss: 0.430\n",
      "Iter 91/500 - Loss: 0.386\n",
      "Iter 101/500 - Loss: 0.341\n",
      "Iter 111/500 - Loss: 0.295\n",
      "Iter 121/500 - Loss: 0.249\n",
      "Iter 131/500 - Loss: 0.203\n",
      "Iter 141/500 - Loss: 0.155\n",
      "Iter 151/500 - Loss: 0.107\n",
      "Iter 161/500 - Loss: 0.058\n",
      "Iter 171/500 - Loss: 0.009\n",
      "Iter 181/500 - Loss: -0.039\n",
      "Iter 191/500 - Loss: -0.089\n",
      "Iter 201/500 - Loss: -0.139\n",
      "Iter 211/500 - Loss: -0.189\n",
      "Iter 221/500 - Loss: -0.239\n",
      "Iter 231/500 - Loss: -0.287\n",
      "Iter 241/500 - Loss: -0.337\n",
      "Iter 251/500 - Loss: -0.387\n",
      "Iter 261/500 - Loss: -0.435\n",
      "Iter 271/500 - Loss: -0.485\n",
      "Iter 281/500 - Loss: -0.534\n",
      "Iter 291/500 - Loss: -0.581\n",
      "Iter 301/500 - Loss: -0.630\n",
      "Iter 311/500 - Loss: -0.679\n",
      "Iter 321/500 - Loss: -0.724\n",
      "Iter 331/500 - Loss: -0.768\n",
      "Iter 341/500 - Loss: -0.816\n",
      "Iter 351/500 - Loss: -0.863\n",
      "Iter 361/500 - Loss: -0.907\n",
      "Iter 371/500 - Loss: -0.952\n",
      "Iter 381/500 - Loss: -0.996\n",
      "Iter 391/500 - Loss: -1.036\n",
      "Iter 401/500 - Loss: -1.080\n",
      "Iter 411/500 - Loss: -1.124\n",
      "Iter 421/500 - Loss: -1.165\n",
      "Iter 431/500 - Loss: -1.205\n",
      "Iter 441/500 - Loss: -1.245\n",
      "Iter 451/500 - Loss: -1.283\n",
      "Iter 461/500 - Loss: -1.322\n",
      "Iter 471/500 - Loss: -1.360\n",
      "Iter 481/500 - Loss: -1.397\n",
      "Iter 491/500 - Loss: -1.423\n"
     ]
    }
   ],
   "source": [
    "# training\n",
    "model.train()\n",
    "likelihood.train()\n",
    "\n",
    "# \"Loss\" for GPs - the marginal log likelihood\n",
    "mll = SumMarginalLogLikelihood(likelihood, model)\n",
    "for i in range(training_iter):\n",
    "    optimizer.zero_grad()\n",
    "    output = model(*model.train_inputs)\n",
    "    loss = -mll(output, model.train_targets)\n",
    "    loss.backward()\n",
    "    optimizer.step()\n",
    "    if i%10 == 0:\n",
    "      print('Iter %d/%d - Loss: %.3f' % (i + 1, training_iter, loss.item()))"
   ]
  },
  {
   "cell_type": "code",
   "execution_count": 55,
   "metadata": {
    "colab": {
     "base_uri": "https://localhost:8080/"
    },
    "id": "ewa7FwU_VHkT",
    "outputId": "a55625fd-fbf4-4726-c6c4-a5306425e64f"
   },
   "outputs": [
    {
     "name": "stderr",
     "output_type": "stream",
     "text": [
      "/home/sysadm/anaconda3/envs/heytrt3.7/lib/python3.6/site-packages/gpytorch/models/exact_gp.py:275: GPInputWarning: The input matches the stored training data. Did you forget to call model.train()?\n",
      "  GPInputWarning,\n"
     ]
    }
   ],
   "source": [
    "# testing\n",
    "concat_train_x = []\n",
    "concat_test_x = []\n",
    "for mode_itr in [1,2]:\n",
    "  for itr in range(num_country):\n",
    "    if itr in target_country_list:\n",
    "      concat_train_x.append(train_x[:,itr,:].T)\n",
    "      concat_test_x.append(test_x[:,itr,:].T)\n",
    "\n",
    "model.eval()\n",
    "likelihood.eval()\n",
    "estimations = likelihood(*model(*concat_train_x))\n",
    "predictions = likelihood(*model(*concat_test_x))"
   ]
  },
  {
   "cell_type": "code",
   "execution_count": 56,
   "metadata": {
    "id": "Yrji4rKhVUcT"
   },
   "outputs": [],
   "source": [
    "def plot_figure(target_country,mode):\n",
    "  target_country_population = country_population_dict[target_country]\n",
    "  if mode == 1:\n",
    "    name = 'Infection'\n",
    "    if target_country == 'South Korea':\n",
    "      target_country_idx = 0\n",
    "      y_lim = [-1000,6000]\n",
    "    elif target_country == 'United Kingdom':\n",
    "      target_country_idx = 1\n",
    "      y_lim = [-1000,100000]\n",
    "    elif target_country == 'US':\n",
    "      target_country_idx = 2\n",
    "      y_lim = [-1000,450000]\n",
    "  elif mode == 2:\n",
    "    name = 'death'\n",
    "    if target_country == 'South Korea':\n",
    "      target_country_idx = 3\n",
    "      y_lim = [-10,100]\n",
    "    elif target_country == 'United Kingdom':\n",
    "      target_country_idx = 4\n",
    "      y_lim = [-1000,3000]\n",
    "    elif target_country == 'US':\n",
    "      target_country_idx = 5\n",
    "      y_lim = [-1666,5000]\n",
    "\n",
    "  submodel = model.models[target_country_idx]\n",
    "  estimation = estimations[target_country_idx]\n",
    "  prediction = predictions[target_country_idx]\n",
    "  max_value = max_list[country_idx_dict[target_country]][mode]\n",
    "\n",
    "  lower, upper = prediction.confidence_region()\n",
    "  tr_x = submodel.train_inputs[0].detach().numpy()[:,0]\n",
    "  tr_y = submodel.train_targets.detach().numpy()\n",
    "  # Plot training data as black stars\n",
    "  plt.plot(tr_x, tr_y*max_value, 'k*')\n",
    "\n",
    "  # Predictive mean as blue line\n",
    "  plt.plot(train_x[0,country_idx_dict[target_country],:].numpy(), estimation.mean.numpy()*max_value, 'b')\n",
    "  plt.plot(test_x[0,country_idx_dict[target_country],:].numpy(), prediction.mean.numpy()*max_value, 'r')\n",
    "\n",
    "  # Shade in confidence\n",
    "  plt.fill_between(test_x[0,country_idx_dict[target_country],:].numpy(), \n",
    "                    lower.detach().numpy()*max_value, \n",
    "                    upper.detach().numpy()*max_value, alpha=0.5)\n",
    "  plt.ylim(y_lim)\n",
    "  plt.legend(['Observed Data', 'Mean', 'Confidence'])\n",
    "  plt.title('Observed Values (Likelihood)')\n",
    "  plt.legend(['Ground-Truth', 'Estimation', 'Prediction'])\n",
    "  plt.ylabel(name)\n",
    "\n",
    "  new_date = date[start_point:].to_numpy()\n",
    "  y_loc = y_lim[0]*1.5\n",
    "\n",
    "  plt.xticks([0.155,0.44,1.0], [str(new_date[int(len(new_date)*0.0)])[:10],\n",
    "                                  str(new_date[end_point-start_point])[:10],\n",
    "                                  str(end_date)[:10]],rotation=45,fontsize=10)\n",
    "\n",
    "  plt.tight_layout()\n",
    "#   plt.savefig(\"results/\"+str(target_country)+'_'+str(name),dpi=300)\n",
    "  plt.show()"
   ]
  },
  {
   "cell_type": "code",
   "execution_count": 57,
   "metadata": {
    "colab": {
     "base_uri": "https://localhost:8080/",
     "height": 1000
    },
    "id": "Bqh1N6Bssy84",
    "outputId": "054adc07-3ea1-4d99-f533-a63ffdba1e9d"
   },
   "outputs": [
    {
     "data": {
      "image/png": "[encoded data removed]",
      "text/plain": [
       "<Figure size 432x288 with 1 Axes>"
      ]
     },
     "metadata": {
      "needs_background": "light"
     },
     "output_type": "display_data"
    },
    {
     "data": {
      "image/png": "[encoded data removed]",
      "text/plain": [
       "<Figure size 432x288 with 1 Axes>"
      ]
     },
     "metadata": {
      "needs_background": "light"
     },
     "output_type": "display_data"
    },
    {
     "data": {
      "image/png": "[encoded data removed]",
      "text/plain": [
       "<Figure size 432x288 with 1 Axes>"
      ]
     },
     "metadata": {
      "needs_background": "light"
     },
     "output_type": "display_data"
    },
    {
     "data": {
      "image/png": "[encoded data removed]",
      "text/plain": [
       "<Figure size 432x288 with 1 Axes>"
      ]
     },
     "metadata": {
      "needs_background": "light"
     },
     "output_type": "display_data"
    },
    {
     "data": {
      "image/png": "[encoded data removed]",
      "text/plain": [
       "<Figure size 432x288 with 1 Axes>"
      ]
     },
     "metadata": {
      "needs_background": "light"
     },
     "output_type": "display_data"
    },
    {
     "data": {
      "image/png": "[encoded data removed]",
      "text/plain": [
       "<Figure size 432x288 with 1 Axes>"
      ]
     },
     "metadata": {
      "needs_background": "light"
     },
     "output_type": "display_data"
    }
   ],
   "source": [
    "# visualization\n",
    "with torch.no_grad(), gpytorch.settings.fast_pred_var():\n",
    "  target_country_list = ['South Korea','United Kingdom','US']\n",
    "  mode_list = [1,2] # 1: infection', 2: death\n",
    "\n",
    "  for target_country in target_country_list:\n",
    "    for mode in mode_list: \n",
    "      plot_figure(target_country,mode)"
   ]
  },
  {
   "cell_type": "code",
   "execution_count": 58,
   "metadata": {
    "id": "q5M7Hb4lPqkd"
   },
   "outputs": [
    {
     "data": {
      "text/html": [
       "<div>\n",
       "<style scoped>\n",
       "    .dataframe tbody tr th:only-of-type {\n",
       "        vertical-align: middle;\n",
       "    }\n",
       "\n",
       "    .dataframe tbody tr th {\n",
       "        vertical-align: top;\n",
       "    }\n",
       "\n",
       "    .dataframe thead th {\n",
       "        text-align: right;\n",
       "    }\n",
       "</style>\n",
       "<table border=\"1\" class=\"dataframe\">\n",
       "  <thead>\n",
       "    <tr style=\"text-align: right;\">\n",
       "      <th></th>\n",
       "      <th>tDate</th>\n",
       "      <th>Australia</th>\n",
       "      <th>Austria</th>\n",
       "      <th>Belgium</th>\n",
       "      <th>Canada</th>\n",
       "      <th>Chile</th>\n",
       "      <th>China</th>\n",
       "      <th>Colombia</th>\n",
       "      <th>Costa Rica</th>\n",
       "      <th>Czechia</th>\n",
       "      <th>...</th>\n",
       "      <th>Slovakia</th>\n",
       "      <th>Slovenia</th>\n",
       "      <th>South Korea</th>\n",
       "      <th>Spain</th>\n",
       "      <th>Sweden</th>\n",
       "      <th>Switzerland</th>\n",
       "      <th>Taiwan</th>\n",
       "      <th>Turkey</th>\n",
       "      <th>United Kingdom</th>\n",
       "      <th>US</th>\n",
       "    </tr>\n",
       "  </thead>\n",
       "  <tbody>\n",
       "    <tr>\n",
       "      <th>0</th>\n",
       "      <td>2020-01-01</td>\n",
       "      <td>-999</td>\n",
       "      <td>-999</td>\n",
       "      <td>-999</td>\n",
       "      <td>-999</td>\n",
       "      <td>-999</td>\n",
       "      <td>-999</td>\n",
       "      <td>-999</td>\n",
       "      <td>-999</td>\n",
       "      <td>-999</td>\n",
       "      <td>...</td>\n",
       "      <td>-999</td>\n",
       "      <td>-999</td>\n",
       "      <td>-999</td>\n",
       "      <td>-999</td>\n",
       "      <td>-999</td>\n",
       "      <td>-999</td>\n",
       "      <td>-999</td>\n",
       "      <td>-999</td>\n",
       "      <td>-999</td>\n",
       "      <td>-999</td>\n",
       "    </tr>\n",
       "    <tr>\n",
       "      <th>1</th>\n",
       "      <td>2020-01-02</td>\n",
       "      <td>-999</td>\n",
       "      <td>-999</td>\n",
       "      <td>-999</td>\n",
       "      <td>-999</td>\n",
       "      <td>-999</td>\n",
       "      <td>-999</td>\n",
       "      <td>-999</td>\n",
       "      <td>-999</td>\n",
       "      <td>-999</td>\n",
       "      <td>...</td>\n",
       "      <td>-999</td>\n",
       "      <td>-999</td>\n",
       "      <td>-999</td>\n",
       "      <td>-999</td>\n",
       "      <td>-999</td>\n",
       "      <td>-999</td>\n",
       "      <td>-999</td>\n",
       "      <td>-999</td>\n",
       "      <td>-999</td>\n",
       "      <td>-999</td>\n",
       "    </tr>\n",
       "    <tr>\n",
       "      <th>2</th>\n",
       "      <td>2020-01-03</td>\n",
       "      <td>-999</td>\n",
       "      <td>-999</td>\n",
       "      <td>-999</td>\n",
       "      <td>-999</td>\n",
       "      <td>-999</td>\n",
       "      <td>-999</td>\n",
       "      <td>-999</td>\n",
       "      <td>-999</td>\n",
       "      <td>-999</td>\n",
       "      <td>...</td>\n",
       "      <td>-999</td>\n",
       "      <td>-999</td>\n",
       "      <td>-999</td>\n",
       "      <td>-999</td>\n",
       "      <td>-999</td>\n",
       "      <td>-999</td>\n",
       "      <td>-999</td>\n",
       "      <td>-999</td>\n",
       "      <td>-999</td>\n",
       "      <td>-999</td>\n",
       "    </tr>\n",
       "    <tr>\n",
       "      <th>3</th>\n",
       "      <td>2020-01-04</td>\n",
       "      <td>-999</td>\n",
       "      <td>-999</td>\n",
       "      <td>-999</td>\n",
       "      <td>-999</td>\n",
       "      <td>-999</td>\n",
       "      <td>-999</td>\n",
       "      <td>-999</td>\n",
       "      <td>-999</td>\n",
       "      <td>-999</td>\n",
       "      <td>...</td>\n",
       "      <td>-999</td>\n",
       "      <td>-999</td>\n",
       "      <td>-999</td>\n",
       "      <td>-999</td>\n",
       "      <td>-999</td>\n",
       "      <td>-999</td>\n",
       "      <td>-999</td>\n",
       "      <td>-999</td>\n",
       "      <td>-999</td>\n",
       "      <td>-999</td>\n",
       "    </tr>\n",
       "    <tr>\n",
       "      <th>4</th>\n",
       "      <td>2020-01-05</td>\n",
       "      <td>-999</td>\n",
       "      <td>-999</td>\n",
       "      <td>-999</td>\n",
       "      <td>-999</td>\n",
       "      <td>-999</td>\n",
       "      <td>-999</td>\n",
       "      <td>-999</td>\n",
       "      <td>-999</td>\n",
       "      <td>-999</td>\n",
       "      <td>...</td>\n",
       "      <td>-999</td>\n",
       "      <td>-999</td>\n",
       "      <td>-999</td>\n",
       "      <td>-999</td>\n",
       "      <td>-999</td>\n",
       "      <td>-999</td>\n",
       "      <td>-999</td>\n",
       "      <td>-999</td>\n",
       "      <td>-999</td>\n",
       "      <td>-999</td>\n",
       "    </tr>\n",
       "    <tr>\n",
       "      <th>...</th>\n",
       "      <td>...</td>\n",
       "      <td>...</td>\n",
       "      <td>...</td>\n",
       "      <td>...</td>\n",
       "      <td>...</td>\n",
       "      <td>...</td>\n",
       "      <td>...</td>\n",
       "      <td>...</td>\n",
       "      <td>...</td>\n",
       "      <td>...</td>\n",
       "      <td>...</td>\n",
       "      <td>...</td>\n",
       "      <td>...</td>\n",
       "      <td>...</td>\n",
       "      <td>...</td>\n",
       "      <td>...</td>\n",
       "      <td>...</td>\n",
       "      <td>...</td>\n",
       "      <td>...</td>\n",
       "      <td>...</td>\n",
       "      <td>...</td>\n",
       "    </tr>\n",
       "    <tr>\n",
       "      <th>782</th>\n",
       "      <td>2022-02-21</td>\n",
       "      <td>51466</td>\n",
       "      <td>195199</td>\n",
       "      <td>42539</td>\n",
       "      <td>57134</td>\n",
       "      <td>86698</td>\n",
       "      <td>-999</td>\n",
       "      <td>26713</td>\n",
       "      <td>-999</td>\n",
       "      <td>65124</td>\n",
       "      <td>...</td>\n",
       "      <td>25648</td>\n",
       "      <td>23910</td>\n",
       "      <td>295861</td>\n",
       "      <td>136690</td>\n",
       "      <td>-999</td>\n",
       "      <td>52140</td>\n",
       "      <td>28370</td>\n",
       "      <td>461513</td>\n",
       "      <td>864748</td>\n",
       "      <td>-999</td>\n",
       "    </tr>\n",
       "    <tr>\n",
       "      <th>783</th>\n",
       "      <td>2022-02-22</td>\n",
       "      <td>82207</td>\n",
       "      <td>502195</td>\n",
       "      <td>48211</td>\n",
       "      <td>89198</td>\n",
       "      <td>70484</td>\n",
       "      <td>-999</td>\n",
       "      <td>35703</td>\n",
       "      <td>-999</td>\n",
       "      <td>56826</td>\n",
       "      <td>...</td>\n",
       "      <td>33688</td>\n",
       "      <td>15777</td>\n",
       "      <td>586980</td>\n",
       "      <td>119727</td>\n",
       "      <td>-999</td>\n",
       "      <td>52345</td>\n",
       "      <td>22431</td>\n",
       "      <td>463335</td>\n",
       "      <td>762634</td>\n",
       "      <td>-999</td>\n",
       "    </tr>\n",
       "    <tr>\n",
       "      <th>784</th>\n",
       "      <td>2022-02-23</td>\n",
       "      <td>100703</td>\n",
       "      <td>630202</td>\n",
       "      <td>42686</td>\n",
       "      <td>60839</td>\n",
       "      <td>88686</td>\n",
       "      <td>-999</td>\n",
       "      <td>34159</td>\n",
       "      <td>-999</td>\n",
       "      <td>47801</td>\n",
       "      <td>...</td>\n",
       "      <td>27105</td>\n",
       "      <td>17763</td>\n",
       "      <td>557729</td>\n",
       "      <td>93828</td>\n",
       "      <td>-999</td>\n",
       "      <td>50783</td>\n",
       "      <td>20659</td>\n",
       "      <td>464085</td>\n",
       "      <td>775118</td>\n",
       "      <td>-999</td>\n",
       "    </tr>\n",
       "    <tr>\n",
       "      <th>785</th>\n",
       "      <td>2022-02-24</td>\n",
       "      <td>89532</td>\n",
       "      <td>847093</td>\n",
       "      <td>-999</td>\n",
       "      <td>50541</td>\n",
       "      <td>110072</td>\n",
       "      <td>-999</td>\n",
       "      <td>35053</td>\n",
       "      <td>-999</td>\n",
       "      <td>45324</td>\n",
       "      <td>...</td>\n",
       "      <td>23849</td>\n",
       "      <td>13601</td>\n",
       "      <td>496831</td>\n",
       "      <td>-999</td>\n",
       "      <td>-999</td>\n",
       "      <td>39144</td>\n",
       "      <td>21266</td>\n",
       "      <td>455201</td>\n",
       "      <td>764641</td>\n",
       "      <td>-999</td>\n",
       "    </tr>\n",
       "    <tr>\n",
       "      <th>786</th>\n",
       "      <td>2022-02-25</td>\n",
       "      <td>100549</td>\n",
       "      <td>468335</td>\n",
       "      <td>-999</td>\n",
       "      <td>-999</td>\n",
       "      <td>108600</td>\n",
       "      <td>-999</td>\n",
       "      <td>-999</td>\n",
       "      <td>-999</td>\n",
       "      <td>-999</td>\n",
       "      <td>...</td>\n",
       "      <td>-999</td>\n",
       "      <td>-999</td>\n",
       "      <td>-999</td>\n",
       "      <td>-999</td>\n",
       "      <td>-999</td>\n",
       "      <td>-999</td>\n",
       "      <td>11983</td>\n",
       "      <td>453947</td>\n",
       "      <td>-999</td>\n",
       "      <td>-999</td>\n",
       "    </tr>\n",
       "  </tbody>\n",
       "</table>\n",
       "<p>787 rows × 41 columns</p>\n",
       "</div>"
      ],
      "text/plain": [
       "         tDate  Australia  Austria  Belgium  Canada   Chile  China  Colombia  \\\n",
       "0   2020-01-01       -999     -999     -999    -999    -999   -999      -999   \n",
       "1   2020-01-02       -999     -999     -999    -999    -999   -999      -999   \n",
       "2   2020-01-03       -999     -999     -999    -999    -999   -999      -999   \n",
       "3   2020-01-04       -999     -999     -999    -999    -999   -999      -999   \n",
       "4   2020-01-05       -999     -999     -999    -999    -999   -999      -999   \n",
       "..         ...        ...      ...      ...     ...     ...    ...       ...   \n",
       "782 2022-02-21      51466   195199    42539   57134   86698   -999     26713   \n",
       "783 2022-02-22      82207   502195    48211   89198   70484   -999     35703   \n",
       "784 2022-02-23     100703   630202    42686   60839   88686   -999     34159   \n",
       "785 2022-02-24      89532   847093     -999   50541  110072   -999     35053   \n",
       "786 2022-02-25     100549   468335     -999    -999  108600   -999      -999   \n",
       "\n",
       "     Costa Rica  Czechia  ...  Slovakia  Slovenia  South Korea   Spain  \\\n",
       "0          -999     -999  ...      -999      -999         -999    -999   \n",
       "1          -999     -999  ...      -999      -999         -999    -999   \n",
       "2          -999     -999  ...      -999      -999         -999    -999   \n",
       "3          -999     -999  ...      -999      -999         -999    -999   \n",
       "4          -999     -999  ...      -999      -999         -999    -999   \n",
       "..          ...      ...  ...       ...       ...          ...     ...   \n",
       "782        -999    65124  ...     25648     23910       295861  136690   \n",
       "783        -999    56826  ...     33688     15777       586980  119727   \n",
       "784        -999    47801  ...     27105     17763       557729   93828   \n",
       "785        -999    45324  ...     23849     13601       496831    -999   \n",
       "786        -999     -999  ...      -999      -999         -999    -999   \n",
       "\n",
       "     Sweden  Switzerland  Taiwan  Turkey  United Kingdom   US  \n",
       "0      -999         -999    -999    -999            -999 -999  \n",
       "1      -999         -999    -999    -999            -999 -999  \n",
       "2      -999         -999    -999    -999            -999 -999  \n",
       "3      -999         -999    -999    -999            -999 -999  \n",
       "4      -999         -999    -999    -999            -999 -999  \n",
       "..      ...          ...     ...     ...             ...  ...  \n",
       "782    -999        52140   28370  461513          864748 -999  \n",
       "783    -999        52345   22431  463335          762634 -999  \n",
       "784    -999        50783   20659  464085          775118 -999  \n",
       "785    -999        39144   21266  455201          764641 -999  \n",
       "786    -999         -999   11983  453947            -999 -999  \n",
       "\n",
       "[787 rows x 41 columns]"
      ]
     },
     "execution_count": 58,
     "metadata": {},
     "output_type": "execute_result"
    }
   ],
   "source": [
    "y_inspection"
   ]
  },
  {
   "cell_type": "code",
   "execution_count": 59,
   "metadata": {},
   "outputs": [],
   "source": [
    "df = pd.DataFrame(x[0,:,:])\n",
    "df.to_csv('x_date2.csv',index=False)\n",
    "\n",
    "df = pd.DataFrame(x[1,:,:])\n",
    "df.to_csv('x_holiday2.csv',index=False)\n",
    "\n",
    "df = pd.DataFrame(x[2,:,:])\n",
    "df.to_csv('x_dist2.csv',index=False)\n",
    "\n",
    "df = pd.DataFrame(x[3,:,:])\n",
    "df.to_csv('x_vaccine2.csv',index=False)\n",
    "\n",
    "df = pd.DataFrame(x[4,:,:])\n",
    "df.to_csv('x_weather2.csv',index=False)\n",
    "\n",
    "df = pd.DataFrame(x[5,:,:])\n",
    "df.to_csv('x_variant2.csv',index=False)"
   ]
  }
 ],
 "metadata": {
  "accelerator": "GPU",
  "colab": {
   "collapsed_sections": [],
   "machine_shape": "hm",
   "name": "main.ipynb",
   "provenance": []
  },
  "kernelspec": {
   "display_name": "Python 3",
   "language": "python",
   "name": "python3"
  },
  "language_info": {
   "codemirror_mode": {
    "name": "ipython",
    "version": 3
   },
   "file_extension": ".py",
   "mimetype": "text/x-python",
   "name": "python",
   "nbconvert_exporter": "python",
   "pygments_lexer": "ipython3",
   "version": "3.6.13"
  }
 },
 "nbformat": 4,
 "nbformat_minor": 4
}
